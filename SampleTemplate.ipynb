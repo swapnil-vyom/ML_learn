{
  "cells": [
    {
      "cell_type": "markdown",
      "metadata": {
        "id": "view-in-github",
        "colab_type": "text"
      },
      "source": [
        "<a href=\"https://colab.research.google.com/github/swapnil-vyom/ML_learn/blob/main/SampleTemplate.ipynb\" target=\"_parent\"><img src=\"https://colab.research.google.com/assets/colab-badge.svg\" alt=\"Open In Colab\"/></a>"
      ]
    },
    {
      "cell_type": "markdown",
      "metadata": {
        "id": "8dTuyPTCnflB"
      },
      "source": [
        "# Simple Linear Regression"
      ]
    },
    {
      "cell_type": "markdown",
      "metadata": {
        "id": "-7rFTnPjnflH"
      },
      "source": [
        "## Task 1: Import  dataset"
      ]
    },
    {
      "cell_type": "code",
      "execution_count": null,
      "metadata": {
        "id": "PjMPE_o_nflH"
      },
      "outputs": [],
      "source": [
        "## Import all the necessary libraries\n",
        "\n",
        "import numpy as np\n",
        "import matplotlib.pyplot as plt\n",
        "import pandas as pd\n",
        "from sklearn.linear_model import LinearRegression\n",
        "\n",
        "%matplotlib inline"
      ]
    },
    {
      "cell_type": "code",
      "source": [
        "# prompt: read data from my system with upload\n",
        "\n",
        "from google.colab import files\n",
        "uploaded = files.upload()\n",
        "\n",
        "import io\n",
        "import pandas as pd\n",
        "\n",
        "data = pd.read_csv(list(uploaded.keys())[0]) #\n",
        "# Now you can work with the dataframe 'df'\n",
        "data.head()"
      ],
      "metadata": {
        "id": "tpe5y8AffoIH"
      },
      "execution_count": null,
      "outputs": []
    },
    {
      "cell_type": "markdown",
      "source": [
        "Define Predictor and Predicted Lables"
      ],
      "metadata": {
        "id": "UYGysXUJXhgg"
      }
    },
    {
      "cell_type": "code",
      "execution_count": null,
      "metadata": {
        "id": "KQJDRVAXnflJ"
      },
      "outputs": [],
      "source": [
        "## Import the dataset\n",
        "\n",
        "\n",
        "# change the path as necessary\n",
        "\n",
        "X = data.iloc[:, 1:-1].values # copy all columns excluding last column\n",
        "Y = data.iloc[:, 1].values   # copy the last column only"
      ]
    },
    {
      "cell_type": "markdown",
      "source": [
        "Split tain and Test Data   from sklearn.model_selection import train_test_split\n",
        "\n",
        "X_train, X_test, Y_train, Y_test = train_test_split(X, Y, test_size=1/3)"
      ],
      "metadata": {
        "id": "pMnESQHgXtsJ"
      }
    },
    {
      "cell_type": "code",
      "execution_count": null,
      "metadata": {
        "id": "_ArebX3hnflM"
      },
      "outputs": [],
      "source": [
        "# Splitting the dataset into the Training set and Test set\n",
        "\n",
        "\n",
        "\n",
        "\n"
      ]
    },
    {
      "cell_type": "markdown",
      "metadata": {
        "id": "Q7GfTD86nflN"
      },
      "source": [
        "## Task 3: Create and train the machine learning model"
      ]
    },
    {
      "cell_type": "markdown",
      "source": [
        "Fit Model- # Fit Simple Linear Regression to the Training dataset\n",
        "\n",
        "from sklearn.linear_model import LinearRegression # or any other\n",
        "\n",
        "# Create the model\n",
        "model = LinearRegression()\n",
        "\n",
        "# Train the model\n",
        "model.fit(X_train, Y_train)"
      ],
      "metadata": {
        "id": "mZ1oYl2GX2LN"
      }
    },
    {
      "cell_type": "code",
      "execution_count": null,
      "metadata": {
        "id": "EvJ0w3WxnflN"
      },
      "outputs": [],
      "source": [
        "\n"
      ]
    },
    {
      "cell_type": "markdown",
      "metadata": {
        "id": "VCxP0ILVnflN"
      },
      "source": [
        "## Task 4: Visualize the results"
      ]
    },
    {
      "cell_type": "code",
      "execution_count": null,
      "metadata": {
        "id": "cjmOxmf3nflO"
      },
      "outputs": [],
      "source": [
        "# The coefficients\n"
      ]
    },
    {
      "cell_type": "markdown",
      "metadata": {
        "id": "uD6NhPxCnflS"
      },
      "source": [
        "## Task 6: Performance measures"
      ]
    },
    {
      "cell_type": "code",
      "source": [
        "#MSE, R2"
      ],
      "metadata": {
        "id": "BucpIhh5YtVw"
      },
      "execution_count": null,
      "outputs": []
    }
  ],
  "metadata": {
    "kernelspec": {
      "display_name": "Python 3",
      "language": "python",
      "name": "python3"
    },
    "language_info": {
      "codemirror_mode": {
        "name": "ipython",
        "version": 3
      },
      "file_extension": ".py",
      "mimetype": "text/x-python",
      "name": "python",
      "nbconvert_exporter": "python",
      "pygments_lexer": "ipython3",
      "version": "3.7.3"
    },
    "colab": {
      "provenance": [],
      "include_colab_link": true
    }
  },
  "nbformat": 4,
  "nbformat_minor": 0
}