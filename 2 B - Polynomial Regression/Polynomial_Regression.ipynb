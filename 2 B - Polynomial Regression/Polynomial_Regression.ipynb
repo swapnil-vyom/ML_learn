{
  "metadata": {
    "kernelspec": {
      "language": "python",
      "display_name": "Python 3",
      "name": "python3"
    },
    "language_info": {
      "pygments_lexer": "ipython3",
      "nbconvert_exporter": "python",
      "version": "3.6.4",
      "file_extension": ".py",
      "codemirror_mode": {
        "name": "ipython",
        "version": 3
      },
      "name": "python",
      "mimetype": "text/x-python"
    },
    "kaggle": {
      "accelerator": "none",
      "dataSources": [
        {
          "sourceId": 204267,
          "sourceType": "datasetVersion",
          "datasetId": 88705
        }
      ],
      "dockerImageVersionId": 30123,
      "isInternetEnabled": false,
      "language": "python",
      "sourceType": "notebook",
      "isGpuEnabled": false
    },
    "colab": {
      "name": "Polynomial Regression",
      "provenance": []
    }
  },
  "nbformat_minor": 0,
  "nbformat": 4,
  "cells": [
    {
      "source": [
        "# IMPORTANT: RUN THIS CELL IN ORDER TO IMPORT YOUR KAGGLE DATA SOURCES,\n",
        "# THEN FEEL FREE TO DELETE THIS CELL.\n",
        "# NOTE: THIS NOTEBOOK ENVIRONMENT DIFFERS FROM KAGGLE'S PYTHON\n",
        "# ENVIRONMENT SO THERE MAY BE MISSING LIBRARIES USED BY YOUR\n",
        "# NOTEBOOK.\n",
        "import kagglehub\n",
        "quantbruce_real_estate_price_prediction_path = kagglehub.dataset_download('quantbruce/real-estate-price-prediction')\n",
        "\n",
        "print('Data source import complete.')\n"
      ],
      "metadata": {
        "id": "qk6ZNbGjepl3"
      },
      "cell_type": "code",
      "outputs": [],
      "execution_count": null
    },
    {
      "cell_type": "markdown",
      "source": [
        "# **Polynomial Regression**"
      ],
      "metadata": {
        "id": "PkKFOcTSepl7"
      }
    },
    {
      "cell_type": "markdown",
      "source": [
        "# **Review**"
      ],
      "metadata": {
        "id": "OcDUoM9Nepl_"
      }
    },
    {
      "cell_type": "markdown",
      "source": [
        "**It is better to see the results of Linear Regression on this Dataset first. To do this, I invite you to refer to my previous notebook about [Linear Regression](https://www.kaggle.com/aminizahra/linear-regression) .**\n",
        "\n"
      ],
      "metadata": {
        "id": "3iMfLr0IepmB"
      }
    },
    {
      "cell_type": "markdown",
      "source": [
        "* we just completed a Linear Regression task, allowing us to predict future label values given a set of features!\n",
        "\n",
        "\n",
        "* How can we now improve on a Linear Regression model?\n",
        "\n",
        "\n",
        "* One approach is to consider **higher order relationships** on the features.\n",
        "\n",
        "\n",
        "* There are two issues polynomial Regression will address for us:\n",
        "  * Non-linear feature relationships to label\n",
        "\n",
        "  * Interaction terms between features\n",
        "  \n",
        "\n",
        "* Let's first explore non-linear relationships and how considering polynomial orders could help address this.\n",
        "\n",
        "\n",
        "* Imagine a feature that is not linear:\n",
        "<a href=\"https://uupload.ir/\" target=\"_blank\"><img src=\"https://s4.uupload.ir/files/1_eqiy.jpg\" border=\"0\" alt=\"آپلود عکس\" /></a>\n",
        "\n",
        "\n",
        "* We know log(x) is not a linear relationship."
      ],
      "metadata": {
        "id": "kLYpRIjLepmC"
      }
    },
    {
      "cell_type": "markdown",
      "source": [
        "* Will be difficult to find a linear relationship:\n",
        "\n",
        "\n",
        "<a href=\"https://uupload.ir/\" target=\"_blank\"><img src=\"https://s4.uupload.ir/files/3_qylp.jpg\" border=\"0\" alt=\"آپلود عکس\" /></a>"
      ],
      "metadata": {
        "id": "vWmB9X2DepmE"
      }
    },
    {
      "cell_type": "markdown",
      "source": [
        "* What about the square of this feature?\n",
        "\n",
        "\n",
        "<a href=\"https://uupload.ir/\" target=\"_blank\"><img src=\"https://s4.uupload.ir/files/4_8ov.jpg\" border=\"0\" alt=\"آپلود عکس\" /></a>"
      ],
      "metadata": {
        "id": "oq2Ef3HwepmF"
      }
    },
    {
      "cell_type": "markdown",
      "source": [
        "* Even more so for higher orders!\n",
        "\n",
        "\n",
        "<a href=\"https://uupload.ir/\" target=\"_blank\"><img src=\"https://s4.uupload.ir/files/5_rop2.jpg\" border=\"0\" alt=\"آپلود عکس\" /></a>"
      ],
      "metadata": {
        "id": "t2Tng3lCepmG"
      }
    },
    {
      "cell_type": "markdown",
      "source": [
        "* Let's now also consider interaction terms.\n",
        "\n",
        "\n",
        "* What if features are only significant when in sync with one another?\n",
        "\n",
        "\n",
        "* For example:\n",
        "  * perhaps newspaper advertising spend by itself is not effective, but greatly increases effectiveness if added to a TV advertising campaign.\n",
        "\n",
        "\n",
        "* Consumers only watching a TV ad will create some sales, but Consumers who watch TV and are later \"reminded\" through a newspaper ad could contribute even more sales than TV or newspaper alone!\n",
        "\n",
        "\n",
        "* How can we check for this?\n",
        "\n",
        "\n",
        "* Simplest way is to create a new feature that multiplies two existing features together to create an interaction term.\n",
        "\n",
        "\n",
        "* We can keep the original features, and add on this interaction term.\n",
        "\n",
        "\n",
        "* Fortunately Scikit-Learn does this for us easily through a preprocessing call.\n",
        "\n",
        "\n",
        "* Sickit-Learn's preprocessing library contains many useful tools to apply to the original data set before model training.\n",
        "\n",
        "\n",
        "* One tool is the PolynomialFeatures which automatically creates both higher order feature Polynomials and the interaction terms between all feature combinations.\n",
        "\n",
        "\n",
        "* Converting Two Features A and B:\n",
        "  * $$1,A,B,A^2, AB, B^2$$\n",
        "\n",
        "\n",
        "* Generalized terms of features X1 and X2:\n",
        "  * $$1,X_1, X_2, X_1^2, X_1X_2, X_2^2$$\n",
        "  "
      ],
      "metadata": {
        "id": "KqBt-D5UepmI"
      }
    },
    {
      "cell_type": "markdown",
      "source": [
        "# Expanding Simple Linear Regression"
      ],
      "metadata": {
        "id": "nsv4_BJ2epmJ"
      }
    },
    {
      "cell_type": "markdown",
      "source": [
        "<a href=\"https://uupload.ir/\" target=\"_blank\"><img src=\"https://s4.uupload.ir/files/6_0hty.jpg\" border=\"0\" alt=\"آپلود عکس\" /></a>"
      ],
      "metadata": {
        "id": "DhxOERxGepmK"
      }
    },
    {
      "cell_type": "markdown",
      "source": [
        "# **📤 Import all necessary Libraries**"
      ],
      "metadata": {
        "id": "ZixgX6wRepmK"
      }
    },
    {
      "cell_type": "code",
      "source": [
        "import numpy as np\n",
        "import pandas as pd\n",
        "import matplotlib.pyplot as plt\n",
        "import seaborn as sns\n",
        "\n",
        "from sklearn.preprocessing import PolynomialFeatures\n",
        "\n",
        "from sklearn.model_selection import train_test_split\n",
        "\n",
        "from sklearn.linear_model import LinearRegression\n",
        "\n",
        "from sklearn import metrics\n",
        "\n",
        "from joblib import dump, load\n",
        "\n",
        "%matplotlib inline"
      ],
      "metadata": {
        "execution": {
          "iopub.status.busy": "2021-09-11T19:00:58.96748Z",
          "iopub.execute_input": "2021-09-11T19:00:58.967854Z",
          "iopub.status.idle": "2021-09-11T19:01:00.108381Z",
          "shell.execute_reply.started": "2021-09-11T19:00:58.967769Z",
          "shell.execute_reply": "2021-09-11T19:01:00.107484Z"
        },
        "trusted": true,
        "id": "XrOlR62DepmK"
      },
      "outputs": [],
      "execution_count": null
    },
    {
      "cell_type": "markdown",
      "source": [
        "# **💾 Check out the Data**"
      ],
      "metadata": {
        "id": "_cvpU3JLepmL"
      }
    },
    {
      "cell_type": "code",
      "source": [
        "df= pd.read_csv('../input/real-estate-price-prediction/Real estate.csv')"
      ],
      "metadata": {
        "execution": {
          "iopub.status.busy": "2021-09-11T19:01:00.109778Z",
          "iopub.execute_input": "2021-09-11T19:01:00.10998Z",
          "iopub.status.idle": "2021-09-11T19:01:00.131886Z",
          "shell.execute_reply.started": "2021-09-11T19:01:00.109957Z",
          "shell.execute_reply": "2021-09-11T19:01:00.1307Z"
        },
        "trusted": true,
        "id": "whrh6zNRepmL"
      },
      "outputs": [],
      "execution_count": null
    },
    {
      "cell_type": "code",
      "source": [
        "df.head()"
      ],
      "metadata": {
        "execution": {
          "iopub.status.busy": "2021-09-11T19:01:00.133382Z",
          "iopub.execute_input": "2021-09-11T19:01:00.133868Z",
          "iopub.status.idle": "2021-09-11T19:01:00.158472Z",
          "shell.execute_reply.started": "2021-09-11T19:01:00.133838Z",
          "shell.execute_reply": "2021-09-11T19:01:00.157672Z"
        },
        "trusted": true,
        "id": "hNrxqiC8epmL"
      },
      "outputs": [],
      "execution_count": null
    },
    {
      "cell_type": "code",
      "source": [
        "print(\"The Dataset has\",df.shape[0],\"Rows\")\n",
        "\n",
        "print(\"The Dataset has\",df.shape[1],\"Columns\")"
      ],
      "metadata": {
        "execution": {
          "iopub.status.busy": "2021-09-11T19:01:00.160356Z",
          "iopub.execute_input": "2021-09-11T19:01:00.160583Z",
          "iopub.status.idle": "2021-09-11T19:01:00.166106Z",
          "shell.execute_reply.started": "2021-09-11T19:01:00.160546Z",
          "shell.execute_reply": "2021-09-11T19:01:00.165006Z"
        },
        "trusted": true,
        "id": "3yKi_kkqepmL"
      },
      "outputs": [],
      "execution_count": null
    },
    {
      "cell_type": "code",
      "source": [
        "df.info()"
      ],
      "metadata": {
        "execution": {
          "iopub.status.busy": "2021-09-11T19:01:00.167652Z",
          "iopub.execute_input": "2021-09-11T19:01:00.168009Z",
          "iopub.status.idle": "2021-09-11T19:01:00.195851Z",
          "shell.execute_reply.started": "2021-09-11T19:01:00.167969Z",
          "shell.execute_reply": "2021-09-11T19:01:00.194818Z"
        },
        "trusted": true,
        "id": "J2X-XvLJepmM"
      },
      "outputs": [],
      "execution_count": null
    },
    {
      "cell_type": "code",
      "source": [
        "df.corr()"
      ],
      "metadata": {
        "execution": {
          "iopub.status.busy": "2021-09-11T19:01:00.197638Z",
          "iopub.execute_input": "2021-09-11T19:01:00.198266Z",
          "iopub.status.idle": "2021-09-11T19:01:00.222884Z",
          "shell.execute_reply.started": "2021-09-11T19:01:00.198234Z",
          "shell.execute_reply": "2021-09-11T19:01:00.222272Z"
        },
        "trusted": true,
        "id": "ofJ7N3d9epmM"
      },
      "outputs": [],
      "execution_count": null
    },
    {
      "cell_type": "code",
      "source": [
        "sns.heatmap(df.corr(), annot=True,cmap=\"YlGnBu\")"
      ],
      "metadata": {
        "execution": {
          "iopub.status.busy": "2021-09-11T19:01:00.223924Z",
          "iopub.execute_input": "2021-09-11T19:01:00.224661Z",
          "iopub.status.idle": "2021-09-11T19:01:01.060609Z",
          "shell.execute_reply.started": "2021-09-11T19:01:00.224631Z",
          "shell.execute_reply": "2021-09-11T19:01:01.059486Z"
        },
        "trusted": true,
        "id": "b2EalaVPepmM"
      },
      "outputs": [],
      "execution_count": null
    },
    {
      "cell_type": "markdown",
      "source": [
        "**Hint:** You can do more overview by yourself"
      ],
      "metadata": {
        "id": "6iM6YqiGepmM"
      }
    },
    {
      "cell_type": "markdown",
      "source": [
        "# **📊 Exploratory Data Analysis (EDA)**"
      ],
      "metadata": {
        "id": "jV9Ec1dpepmM"
      }
    },
    {
      "cell_type": "code",
      "source": [
        "sns.pairplot(df)"
      ],
      "metadata": {
        "execution": {
          "iopub.status.busy": "2021-09-11T19:01:01.062014Z",
          "iopub.execute_input": "2021-09-11T19:01:01.062265Z",
          "iopub.status.idle": "2021-09-11T19:01:15.052956Z",
          "shell.execute_reply.started": "2021-09-11T19:01:01.062235Z",
          "shell.execute_reply": "2021-09-11T19:01:15.052061Z"
        },
        "trusted": true,
        "id": "GTBTo9AGepmM"
      },
      "outputs": [],
      "execution_count": null
    },
    {
      "cell_type": "markdown",
      "source": [
        "## **Define X and y**"
      ],
      "metadata": {
        "id": "3betKIDTepmN"
      }
    },
    {
      "cell_type": "code",
      "source": [
        "X=df.drop('Y house price of unit area', axis=1)\n",
        "\n",
        "y=df['Y house price of unit area']"
      ],
      "metadata": {
        "execution": {
          "iopub.status.busy": "2021-09-11T19:01:15.054397Z",
          "iopub.execute_input": "2021-09-11T19:01:15.054661Z",
          "iopub.status.idle": "2021-09-11T19:01:15.060438Z",
          "shell.execute_reply.started": "2021-09-11T19:01:15.054631Z",
          "shell.execute_reply": "2021-09-11T19:01:15.059419Z"
        },
        "trusted": true,
        "id": "KUJbBvaPepmN"
      },
      "outputs": [],
      "execution_count": null
    },
    {
      "cell_type": "markdown",
      "source": [
        "# **✔️ Preprocessing**"
      ],
      "metadata": {
        "id": "n0FKIxlkepmO"
      }
    },
    {
      "cell_type": "code",
      "source": [
        "polynomial_converter=PolynomialFeatures(degree=2, include_bias=False)"
      ],
      "metadata": {
        "execution": {
          "iopub.status.busy": "2021-09-11T19:01:15.063758Z",
          "iopub.execute_input": "2021-09-11T19:01:15.064005Z",
          "iopub.status.idle": "2021-09-11T19:01:15.072904Z",
          "shell.execute_reply.started": "2021-09-11T19:01:15.063977Z",
          "shell.execute_reply": "2021-09-11T19:01:15.071841Z"
        },
        "trusted": true,
        "id": "2vxgtVfnepmO"
      },
      "outputs": [],
      "execution_count": null
    },
    {
      "cell_type": "code",
      "source": [
        "poly_features=polynomial_converter.fit(X)"
      ],
      "metadata": {
        "execution": {
          "iopub.status.busy": "2021-09-11T19:01:15.074257Z",
          "iopub.execute_input": "2021-09-11T19:01:15.074547Z",
          "iopub.status.idle": "2021-09-11T19:01:15.084877Z",
          "shell.execute_reply.started": "2021-09-11T19:01:15.074515Z",
          "shell.execute_reply": "2021-09-11T19:01:15.084054Z"
        },
        "trusted": true,
        "id": "wFjyHbwtepmO"
      },
      "outputs": [],
      "execution_count": null
    },
    {
      "cell_type": "code",
      "source": [
        "poly_features=polynomial_converter.transform(X)"
      ],
      "metadata": {
        "execution": {
          "iopub.status.busy": "2021-09-11T19:01:15.086312Z",
          "iopub.execute_input": "2021-09-11T19:01:15.086527Z",
          "iopub.status.idle": "2021-09-11T19:01:15.097482Z",
          "shell.execute_reply.started": "2021-09-11T19:01:15.086502Z",
          "shell.execute_reply": "2021-09-11T19:01:15.09666Z"
        },
        "trusted": true,
        "id": "XkqPZ-4hepmP"
      },
      "outputs": [],
      "execution_count": null
    },
    {
      "cell_type": "code",
      "source": [
        "poly_features.shape"
      ],
      "metadata": {
        "execution": {
          "iopub.status.busy": "2021-09-11T19:01:15.098886Z",
          "iopub.execute_input": "2021-09-11T19:01:15.099102Z",
          "iopub.status.idle": "2021-09-11T19:01:15.111748Z",
          "shell.execute_reply.started": "2021-09-11T19:01:15.099078Z",
          "shell.execute_reply": "2021-09-11T19:01:15.110887Z"
        },
        "trusted": true,
        "id": "nTjQS-okepmP"
      },
      "outputs": [],
      "execution_count": null
    },
    {
      "cell_type": "code",
      "source": [
        "X.shape"
      ],
      "metadata": {
        "execution": {
          "iopub.status.busy": "2021-09-11T19:01:15.113107Z",
          "iopub.execute_input": "2021-09-11T19:01:15.113436Z",
          "iopub.status.idle": "2021-09-11T19:01:15.122081Z",
          "shell.execute_reply.started": "2021-09-11T19:01:15.113373Z",
          "shell.execute_reply": "2021-09-11T19:01:15.121275Z"
        },
        "trusted": true,
        "id": "Y5heMTKiepmP"
      },
      "outputs": [],
      "execution_count": null
    },
    {
      "cell_type": "markdown",
      "source": [
        "# **🧱 Train Test Split**"
      ],
      "metadata": {
        "id": "tFLax5GpepmQ"
      }
    },
    {
      "cell_type": "code",
      "source": [
        "X_train, X_test, y_train, y_test = train_test_split(\n",
        "    poly_features, y, test_size=0.3, random_state=101)"
      ],
      "metadata": {
        "execution": {
          "iopub.status.busy": "2021-09-11T19:01:15.122947Z",
          "iopub.execute_input": "2021-09-11T19:01:15.123144Z",
          "iopub.status.idle": "2021-09-11T19:01:15.136241Z",
          "shell.execute_reply.started": "2021-09-11T19:01:15.123121Z",
          "shell.execute_reply": "2021-09-11T19:01:15.135412Z"
        },
        "trusted": true,
        "id": "bRl1HBHPepmQ"
      },
      "outputs": [],
      "execution_count": null
    },
    {
      "cell_type": "markdown",
      "source": [
        "# **📈 Training a Polynomial Regression Model**"
      ],
      "metadata": {
        "id": "MMpxoGUcepmQ"
      }
    },
    {
      "cell_type": "code",
      "source": [
        "polymodel=LinearRegression()"
      ],
      "metadata": {
        "execution": {
          "iopub.status.busy": "2021-09-11T19:01:15.137444Z",
          "iopub.execute_input": "2021-09-11T19:01:15.1377Z",
          "iopub.status.idle": "2021-09-11T19:01:15.1465Z",
          "shell.execute_reply.started": "2021-09-11T19:01:15.137674Z",
          "shell.execute_reply": "2021-09-11T19:01:15.145639Z"
        },
        "trusted": true,
        "id": "hGwBnUcGepmR"
      },
      "outputs": [],
      "execution_count": null
    },
    {
      "cell_type": "code",
      "source": [
        "polymodel.fit(X_train, y_train)"
      ],
      "metadata": {
        "execution": {
          "iopub.status.busy": "2021-09-11T19:01:15.147629Z",
          "iopub.execute_input": "2021-09-11T19:01:15.147893Z",
          "iopub.status.idle": "2021-09-11T19:01:15.1676Z",
          "shell.execute_reply.started": "2021-09-11T19:01:15.147866Z",
          "shell.execute_reply": "2021-09-11T19:01:15.166407Z"
        },
        "trusted": true,
        "id": "JwvuxNqjepmR"
      },
      "outputs": [],
      "execution_count": null
    },
    {
      "cell_type": "markdown",
      "source": [
        " # **✔️  Predicting Test Data**"
      ],
      "metadata": {
        "id": "K0dVXH6AepmR"
      }
    },
    {
      "cell_type": "code",
      "source": [
        "y_pred=polymodel.predict(X_test)"
      ],
      "metadata": {
        "execution": {
          "iopub.status.busy": "2021-09-11T19:01:15.16962Z",
          "iopub.execute_input": "2021-09-11T19:01:15.170186Z",
          "iopub.status.idle": "2021-09-11T19:01:15.177286Z",
          "shell.execute_reply.started": "2021-09-11T19:01:15.170051Z",
          "shell.execute_reply": "2021-09-11T19:01:15.175839Z"
        },
        "trusted": true,
        "id": "Ut_AzUWnepmR"
      },
      "outputs": [],
      "execution_count": null
    },
    {
      "cell_type": "code",
      "source": [
        "pd.DataFrame({'Y_Test': y_test,'Y_Pred':y_pred, 'Residuals':(y_test-y_pred) }).head(5)"
      ],
      "metadata": {
        "execution": {
          "iopub.status.busy": "2021-09-11T19:01:15.179525Z",
          "iopub.execute_input": "2021-09-11T19:01:15.180026Z",
          "iopub.status.idle": "2021-09-11T19:01:15.203913Z",
          "shell.execute_reply.started": "2021-09-11T19:01:15.179982Z",
          "shell.execute_reply": "2021-09-11T19:01:15.20303Z"
        },
        "trusted": true,
        "id": "yxBXgjiZepmR"
      },
      "outputs": [],
      "execution_count": null
    },
    {
      "cell_type": "markdown",
      "source": [
        "# **✔️ Evaluating the Model**"
      ],
      "metadata": {
        "id": "d4uAB5_jepmS"
      }
    },
    {
      "cell_type": "code",
      "source": [
        "MAE_Poly = metrics.mean_absolute_error(y_test,y_pred)\n",
        "MSE_Poly = metrics.mean_squared_error(y_test,y_pred)\n",
        "RMSE_Poly = np.sqrt(MSE_Poly)\n",
        "\n",
        "pd.DataFrame([MAE_Poly, MSE_Poly, RMSE_Poly],\n",
        "             index=['MAE', 'MSE', 'RMSE'], columns=['metrics'])"
      ],
      "metadata": {
        "execution": {
          "iopub.status.busy": "2021-09-11T19:01:15.205545Z",
          "iopub.execute_input": "2021-09-11T19:01:15.206611Z",
          "iopub.status.idle": "2021-09-11T19:01:15.227198Z",
          "shell.execute_reply.started": "2021-09-11T19:01:15.206529Z",
          "shell.execute_reply": "2021-09-11T19:01:15.226341Z"
        },
        "trusted": true,
        "id": "nsGys0NGepmS"
      },
      "outputs": [],
      "execution_count": null
    },
    {
      "cell_type": "markdown",
      "source": [
        "# **✔️ Compare to the simple linear regression:**"
      ],
      "metadata": {
        "id": "5eSzkQ-aepmS"
      }
    },
    {
      "cell_type": "code",
      "source": [
        "XS_train, XS_test, ys_train, ys_test = train_test_split(X, y, test_size=0.3, random_state=101)\n",
        "simplemodel=LinearRegression()\n",
        "simplemodel.fit(XS_train, ys_train)\n",
        "ys_pred=simplemodel.predict(XS_test)\n",
        "\n",
        "MAE_simple = metrics.mean_absolute_error(ys_test,ys_pred)\n",
        "MSE_simple = metrics.mean_squared_error(ys_test,ys_pred)\n",
        "RMSE_simple = np.sqrt(MSE_simple)"
      ],
      "metadata": {
        "execution": {
          "iopub.status.busy": "2021-09-11T19:01:15.228818Z",
          "iopub.execute_input": "2021-09-11T19:01:15.229513Z",
          "iopub.status.idle": "2021-09-11T19:01:15.250758Z",
          "shell.execute_reply.started": "2021-09-11T19:01:15.229403Z",
          "shell.execute_reply": "2021-09-11T19:01:15.2497Z"
        },
        "trusted": true,
        "id": "OxVYpBlGepmT"
      },
      "outputs": [],
      "execution_count": null
    },
    {
      "cell_type": "code",
      "source": [
        "pd.DataFrame({'Poly Metrics': [MAE_Poly, MSE_Poly, RMSE_Poly], 'Simple Metrics':[MAE_simple, MSE_simple,\n",
        "                                                                                 RMSE_simple]}, index=['MAE', 'MSE', 'RMSE'])"
      ],
      "metadata": {
        "execution": {
          "iopub.status.busy": "2021-09-11T19:01:15.252488Z",
          "iopub.execute_input": "2021-09-11T19:01:15.25335Z",
          "iopub.status.idle": "2021-09-11T19:01:15.273499Z",
          "shell.execute_reply.started": "2021-09-11T19:01:15.253305Z",
          "shell.execute_reply": "2021-09-11T19:01:15.272688Z"
        },
        "trusted": true,
        "id": "D0BQKPGCepmT"
      },
      "outputs": [],
      "execution_count": null
    },
    {
      "cell_type": "markdown",
      "source": [
        "# **✔️ Adjusting Model Parameters**"
      ],
      "metadata": {
        "id": "zpLrNi7_epmT"
      }
    },
    {
      "cell_type": "code",
      "source": [
        "# Train List of RMSE per degree\n",
        "train_RMSE_list=[]\n",
        "#Test List of RMSE per degree\n",
        "test_RMSE_list=[]\n",
        "\n",
        "for d in range(1,10):\n",
        "\n",
        "    #Preprocessing\n",
        "    #create poly data set for degree (d)\n",
        "    polynomial_converter= PolynomialFeatures(degree=d, include_bias=False)\n",
        "    poly_features= polynomial_converter.fit(X)\n",
        "    poly_features= polynomial_converter.transform(X)\n",
        "\n",
        "    #Split the dataset\n",
        "    X_train, X_test, y_train, y_test = train_test_split(poly_features, y, test_size=0.3, random_state=101)\n",
        "\n",
        "    #Train the Model\n",
        "    polymodel=LinearRegression()\n",
        "    polymodel.fit(X_train, y_train)\n",
        "\n",
        "    #Predicting on both Train & Test Data\n",
        "    y_train_pred=polymodel.predict(X_train)\n",
        "    y_test_pred=polymodel.predict(X_test)\n",
        "\n",
        "    #Evaluating the Model\n",
        "\n",
        "    #RMSE of Train set\n",
        "    train_RMSE=np.sqrt(metrics.mean_squared_error(y_train, y_train_pred))\n",
        "\n",
        "    #RMSE of Test Set\n",
        "    test_RMSE=np.sqrt(metrics.mean_squared_error(y_test, y_test_pred))\n",
        "\n",
        "    #Append the RMSE to the Train and Test List\n",
        "\n",
        "    train_RMSE_list.append(train_RMSE)\n",
        "    test_RMSE_list.append(test_RMSE)"
      ],
      "metadata": {
        "execution": {
          "iopub.status.busy": "2021-09-11T19:01:15.275129Z",
          "iopub.execute_input": "2021-09-11T19:01:15.2761Z",
          "iopub.status.idle": "2021-09-11T19:01:16.403535Z",
          "shell.execute_reply.started": "2021-09-11T19:01:15.276025Z",
          "shell.execute_reply": "2021-09-11T19:01:16.40262Z"
        },
        "trusted": true,
        "id": "VtPHgGI2epmT"
      },
      "outputs": [],
      "execution_count": null
    },
    {
      "cell_type": "code",
      "source": [
        "pd.DataFrame({'Train RMSE List':train_RMSE_list})"
      ],
      "metadata": {
        "execution": {
          "iopub.status.busy": "2021-09-11T19:03:06.6164Z",
          "iopub.execute_input": "2021-09-11T19:03:06.617552Z",
          "iopub.status.idle": "2021-09-11T19:03:06.630889Z",
          "shell.execute_reply.started": "2021-09-11T19:03:06.617505Z",
          "shell.execute_reply": "2021-09-11T19:03:06.630053Z"
        },
        "trusted": true,
        "id": "Ydl0T_JQepmT"
      },
      "outputs": [],
      "execution_count": null
    },
    {
      "cell_type": "code",
      "source": [
        "pd.DataFrame({'Ttest RMSE List':test_RMSE_list})"
      ],
      "metadata": {
        "execution": {
          "iopub.status.busy": "2021-09-11T19:03:40.792437Z",
          "iopub.execute_input": "2021-09-11T19:03:40.792823Z",
          "iopub.status.idle": "2021-09-11T19:03:40.80371Z",
          "shell.execute_reply.started": "2021-09-11T19:03:40.79279Z",
          "shell.execute_reply": "2021-09-11T19:03:40.802828Z"
        },
        "trusted": true,
        "id": "XFoqiGfGepmU"
      },
      "outputs": [],
      "execution_count": null
    },
    {
      "cell_type": "markdown",
      "source": [
        "# **✔️ Plot the Polynomial degree VS RMSE**"
      ],
      "metadata": {
        "id": "raaN8XkQepmU"
      }
    },
    {
      "cell_type": "code",
      "source": [
        "plt.plot(range(1,6), train_RMSE_list[:5], label='Train RMSE')\n",
        "plt.plot(range(1,6), test_RMSE_list[:5], label='Test RMSE')\n",
        "\n",
        "plt.xlabel('Polynomial Degree')\n",
        "plt.ylabel('RMSE')\n",
        "plt.legend()"
      ],
      "metadata": {
        "execution": {
          "iopub.status.busy": "2021-09-11T19:01:16.440257Z",
          "iopub.execute_input": "2021-09-11T19:01:16.441239Z",
          "iopub.status.idle": "2021-09-11T19:01:16.729986Z",
          "shell.execute_reply.started": "2021-09-11T19:01:16.441195Z",
          "shell.execute_reply": "2021-09-11T19:01:16.729453Z"
        },
        "trusted": true,
        "id": "4FRnoK8cepmU"
      },
      "outputs": [],
      "execution_count": null
    }
  ]
}