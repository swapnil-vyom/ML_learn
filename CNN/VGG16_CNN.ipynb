{
  "cells": [
    {
      "cell_type": "markdown",
      "source": [
        "***This notebook is developed by Prof. Monali Mavani***"
      ],
      "metadata": {
        "id": "md5aI3u3NIHC"
      }
    },
    {
      "cell_type": "markdown",
      "source": [
        "This notebook demonstates transfer learning using VGG16 model on image dataset - CIFAR10\n",
        "\n",
        "Dataset: https://pytorch.org/vision/main/generated/torchvision.datasets.CIFAR10.html\n",
        "\n",
        "Model: https://pytorch.org/vision/main/models/generated/torchvision.models.vgg16.html\n",
        "\n",
        "Reference : https://pytorch.org/"
      ],
      "metadata": {
        "id": "M9YqlezRGFMq"
      }
    },
    {
      "cell_type": "markdown",
      "source": [
        "Load a pretrained model and modify it for transfer learning.\n",
        "    \n",
        "    \n",
        "    1. Loading a pretrained model (trained on ImageNet)\n",
        "    2. Freezing the feature extraction layers (backbone)\n",
        "    3. Replacing the final classifier for the target dataset"
      ],
      "metadata": {
        "id": "xibbjTS4iby2"
      }
    },
    {
      "cell_type": "code",
      "execution_count": null,
      "metadata": {
        "id": "1fbnQNziwAPd"
      },
      "outputs": [],
      "source": [
        "# Import necessary libraries\n",
        "import torch\n",
        "import torch.nn as nn\n",
        "import torch.optim as optim\n",
        "import torchvision\n",
        "import torchvision.transforms as transforms\n",
        "from torch.utils.data import DataLoader\n",
        "import time\n",
        "import datetime\n",
        "import os\n",
        "from torchvision import transforms, datasets, models"
      ]
    },
    {
      "cell_type": "code",
      "execution_count": null,
      "metadata": {
        "id": "vz9uAliqm83a"
      },
      "outputs": [],
      "source": [
        "# Step 1: Initialize Parameters and Hyperparameters\n",
        "# Hyperparameters\n",
        "input_size = 32 * 32 * 3  # CIFAR10 images are 32 * 32 *3\n",
        "\n",
        "num_classes = 10      # CIFAR10 has 10 classes\n",
        "learning_rate = 0.001\n",
        "batch_size = 64\n",
        "num_epochs = 5\n",
        "\n",
        "# Device configuration\n",
        "device = torch.device('cuda' if torch.cuda.is_available() else 'cpu')"
      ]
    },
    {
      "cell_type": "markdown",
      "metadata": {
        "id": "K03FkjHUCmkg"
      },
      "source": [
        "**Transforms** are common image transformations. They can be chained together using Compose\n",
        "\n",
        "All transformations accept PIL Image, Tensor Image or batch of Tensor Images as input. Tensor Image is a tensor with (C, H, W) shape, where C is a number of channels, H and W are image height and width. Batch of Tensor Images is a tensor of (B, C, H, W) shape, where B is a number of images in the batch.\n",
        "\n",
        "**transforms.toTensor()** Converts a PIL Image or numpy.ndarray (H x W x C) in the range [0, 255] to a torch.FloatTensor of shape (C x H x W) in the range [0.0, 1.0]\n",
        "\n",
        "**transforms.Normalize((0.5,), (0.5,)** :  \n",
        "normalizes the data of [0,1] into [-1,1] scale by performing (input-0.5)/0.5, so [0,1]->[-1,1]"
      ]
    },
    {
      "cell_type": "code",
      "execution_count": null,
      "metadata": {
        "id": "gemuQQNdC-PR"
      },
      "outputs": [],
      "source": [
        "transform = transforms.Compose([\n",
        "    transforms.ToTensor(),\n",
        "    transforms.Normalize((0.5,), (0.5,))\n",
        "])"
      ]
    },
    {
      "cell_type": "code",
      "execution_count": null,
      "metadata": {
        "colab": {
          "base_uri": "https://localhost:8080/"
        },
        "id": "d3KGt871Jigd",
        "outputId": "d077fa92-62bc-455d-f8e6-0fb4065bbd4d"
      },
      "outputs": [
        {
          "output_type": "stream",
          "name": "stdout",
          "text": [
            "Mounted at /content/drive\n"
          ]
        }
      ],
      "source": [
        "from google.colab import drive\n",
        "drive.mount('/content/drive')"
      ]
    },
    {
      "cell_type": "code",
      "execution_count": null,
      "metadata": {
        "id": "ltkYfkGYJnsV"
      },
      "outputs": [],
      "source": [
        "import os\n",
        "os.chdir('/content/drive/My Drive/Colab Notebooks/')"
      ]
    },
    {
      "cell_type": "markdown",
      "metadata": {
        "id": "_9JUQzBJOEY_"
      },
      "source": [
        "### Understanding torchvision datasets"
      ]
    },
    {
      "cell_type": "code",
      "execution_count": null,
      "metadata": {
        "colab": {
          "base_uri": "https://localhost:8080/"
        },
        "id": "7QpMNLYwLQN7",
        "outputId": "6774a091-19f0-4fc0-a9c5-bbc4fb722d7c"
      },
      "outputs": [
        {
          "output_type": "execute_result",
          "data": {
            "text/plain": [
              "50000"
            ]
          },
          "metadata": {},
          "execution_count": 6
        }
      ],
      "source": [
        "# CIFAR 10 dataset\n",
        "\n",
        "train_dataset1 = torchvision.datasets.CIFAR10(root='./data', train=True, transform=None, download=True)\n",
        "test_dataset1 = torchvision.datasets.CIFAR10(root='./data', train=False, transform=None)\n",
        "\n",
        "len(train_dataset1)"
      ]
    },
    {
      "cell_type": "code",
      "execution_count": null,
      "metadata": {
        "colab": {
          "base_uri": "https://localhost:8080/"
        },
        "id": "sCTbSpdiLhEa",
        "outputId": "00676826-1c14-478e-ffc2-a1888e6c0a20"
      },
      "outputs": [
        {
          "output_type": "execute_result",
          "data": {
            "text/plain": [
              "10000"
            ]
          },
          "metadata": {},
          "execution_count": 7
        }
      ],
      "source": [
        "len(test_dataset1)"
      ]
    },
    {
      "cell_type": "code",
      "execution_count": null,
      "metadata": {
        "colab": {
          "base_uri": "https://localhost:8080/"
        },
        "id": "zBbON3xHLmoU",
        "outputId": "cf2ca7da-204d-41b8-ebc3-d4944d3a76bb"
      },
      "outputs": [
        {
          "output_type": "execute_result",
          "data": {
            "text/plain": [
              "(<PIL.Image.Image image mode=RGB size=32x32>, 6)"
            ]
          },
          "metadata": {},
          "execution_count": 8
        }
      ],
      "source": [
        "#first element is a PIL image and the second is an target\n",
        "train_dataset1[0]"
      ]
    },
    {
      "cell_type": "code",
      "execution_count": null,
      "metadata": {
        "colab": {
          "base_uri": "https://localhost:8080/"
        },
        "id": "MOA_nIwyL-7s",
        "outputId": "62671a89-5b7f-4e29-8468-035eb36efa3a"
      },
      "outputs": [
        {
          "output_type": "stream",
          "name": "stdout",
          "text": [
            "(32, 32)\n"
          ]
        }
      ],
      "source": [
        "train_image_zero, train_target_zero = train_dataset1[0]\n",
        "train_image_zero\n",
        "print(train_image_zero.size)\n"
      ]
    },
    {
      "cell_type": "code",
      "execution_count": null,
      "metadata": {
        "colab": {
          "base_uri": "https://localhost:8080/"
        },
        "id": "9nps6g4oN_kZ",
        "outputId": "611b4821-d41c-4d67-ec55-0c9c0d604ab1"
      },
      "outputs": [
        {
          "output_type": "stream",
          "name": "stdout",
          "text": [
            "(32, 32)\n",
            "6\n"
          ]
        }
      ],
      "source": [
        "print(train_image_zero.size)\n",
        "print(train_target_zero)"
      ]
    },
    {
      "cell_type": "markdown",
      "metadata": {
        "id": "_cfucTDlOK-w"
      },
      "source": [
        "### loading dataset using data loader"
      ]
    },
    {
      "cell_type": "code",
      "execution_count": null,
      "metadata": {
        "id": "WZ7tP9WcDCp3"
      },
      "outputs": [],
      "source": [
        "# Step 2: Load CIFAR dataset and perform image pre processing\n",
        "# MNIST dataset (32x32X3images of digits 0-9)\n",
        "\n",
        "train_dataset = torchvision.datasets.CIFAR10(root='./data', train=True, transform=transform, download=True)\n",
        "test_dataset = torchvision.datasets.CIFAR10(root='./data', train=False, transform=transform)\n"
      ]
    },
    {
      "cell_type": "code",
      "execution_count": null,
      "metadata": {
        "colab": {
          "base_uri": "https://localhost:8080/"
        },
        "id": "JEwpQOjeLADZ",
        "outputId": "7d2a08c2-e24d-48db-c593-c19610189422"
      },
      "outputs": [
        {
          "output_type": "execute_result",
          "data": {
            "text/plain": [
              "(tensor([[[-0.5373, -0.6627, -0.6078,  ...,  0.2392,  0.1922,  0.1608],\n",
              "          [-0.8745, -1.0000, -0.8588,  ..., -0.0353, -0.0667, -0.0431],\n",
              "          [-0.8039, -0.8745, -0.6157,  ..., -0.0745, -0.0588, -0.1451],\n",
              "          ...,\n",
              "          [ 0.6314,  0.5765,  0.5529,  ...,  0.2549, -0.5608, -0.5843],\n",
              "          [ 0.4118,  0.3569,  0.4588,  ...,  0.4431, -0.2392, -0.3490],\n",
              "          [ 0.3882,  0.3176,  0.4039,  ...,  0.6941,  0.1843, -0.0353]],\n",
              " \n",
              "         [[-0.5137, -0.6392, -0.6235,  ...,  0.0353, -0.0196, -0.0275],\n",
              "          [-0.8431, -1.0000, -0.9373,  ..., -0.3098, -0.3490, -0.3176],\n",
              "          [-0.8118, -0.9451, -0.7882,  ..., -0.3412, -0.3412, -0.4275],\n",
              "          ...,\n",
              "          [ 0.3333,  0.2000,  0.2627,  ...,  0.0431, -0.7569, -0.7333],\n",
              "          [ 0.0902, -0.0353,  0.1294,  ...,  0.1608, -0.5137, -0.5843],\n",
              "          [ 0.1294,  0.0118,  0.1137,  ...,  0.4431, -0.0745, -0.2784]],\n",
              " \n",
              "         [[-0.5059, -0.6471, -0.6627,  ..., -0.1529, -0.2000, -0.1922],\n",
              "          [-0.8431, -1.0000, -1.0000,  ..., -0.5686, -0.6078, -0.5529],\n",
              "          [-0.8353, -1.0000, -0.9373,  ..., -0.6078, -0.6078, -0.6706],\n",
              "          ...,\n",
              "          [-0.2471, -0.7333, -0.7961,  ..., -0.4510, -0.9451, -0.8431],\n",
              "          [-0.2471, -0.6706, -0.7647,  ..., -0.2627, -0.7333, -0.7333],\n",
              "          [-0.0902, -0.2627, -0.3176,  ...,  0.0980, -0.3412, -0.4353]]]),\n",
              " 6)"
            ]
          },
          "metadata": {},
          "execution_count": 12
        }
      ],
      "source": [
        "train_dataset[0]"
      ]
    },
    {
      "cell_type": "markdown",
      "metadata": {
        "id": "7F8YwBQktth3"
      },
      "source": [
        "DataLoader()\n",
        "The Dataset retrieves our dataset’s features and labels one sample at a time. While training a model, we typically want to pass samples in “minibatches”, reshuffle the data at every epoch to reduce model overfitting, and use Python’s multiprocessing to speed up data retrieval.\n",
        "\n",
        "DataLoader is an iterable that abstracts this complexity for us in an easy API. PyTorch Dataloader is a utility class designed to simplify loading and iterating over datasets while training deep learning models. It has various constraints to iterating datasets, like batching, shuffling, and processing data"
      ]
    },
    {
      "cell_type": "code",
      "execution_count": null,
      "metadata": {
        "id": "CL9gWD0bO4uh"
      },
      "outputs": [],
      "source": [
        "# DataLoader returns the batched data (input features and labels) to the training loop.\n",
        "train_loader = DataLoader(dataset=train_dataset, batch_size=batch_size, shuffle=True)\n",
        "test_loader = DataLoader(dataset=test_dataset, batch_size=batch_size, shuffle=False)"
      ]
    },
    {
      "cell_type": "code",
      "execution_count": null,
      "metadata": {
        "colab": {
          "base_uri": "https://localhost:8080/"
        },
        "id": "PoPaq_tTTJ-S",
        "outputId": "a6447eb5-e76f-4a62-cf2a-c668532f827b"
      },
      "outputs": [
        {
          "output_type": "stream",
          "name": "stdout",
          "text": [
            "torch.Size([64, 3, 32, 32]) torch.Size([64])\n"
          ]
        }
      ],
      "source": [
        "#iterating over dataloader, each batch size is 10000\n",
        "i=0\n",
        "for X_batch, y_batch in train_loader:\n",
        "    #print(X_batch, y_batch)\n",
        "    print(X_batch.shape, y_batch.shape)\n",
        "    i=i+1\n",
        "    if i==1:\n",
        "      break\n"
      ]
    },
    {
      "cell_type": "markdown",
      "metadata": {
        "id": "ia9usP29UoVp"
      },
      "source": [
        "### Define the Neural Network using torch.nn.Module\n",
        "Base class for all neural network modules. Your models should also subclass this class.\n",
        "\n",
        "An nn.Module contains layers, and a method forward(input) that returns the output.\n",
        "\n",
        "https://pytorch.org/docs/stable/nn.html\n"
      ]
    },
    {
      "cell_type": "code",
      "execution_count": null,
      "metadata": {
        "id": "UjCk4La-KCfG"
      },
      "outputs": [],
      "source": [
        "def get_pretrained_model(model_name):\n",
        "\n",
        "    if model_name == 'vgg16':\n",
        "        model = models.vgg16(pretrained=True)\n",
        "\n",
        "        # Freeze early layers\n",
        "        for param in model.parameters():\n",
        "            param.requires_grad = False\n",
        "\n",
        "# === CLASSIFIER MODIFICATION ===\n",
        "        # Get the number of input features to the final classifier layer\n",
        "        # VGG16 architecture: features -> avgpool -> classifier\n",
        "        # classifier[6] is the final FC layer: Linear(4096 -> 1000) for ImageNet\n",
        "\n",
        "        n_inputs = model.classifier[6].in_features\n",
        "        print( \"VGG 16 final conv layer output size\",n_inputs)\n",
        "        # Add on classifier\n",
        "#In VGG16, the final classifier layer (commonly referred to as classifier[6]) is a fully-connected (FC) layer responsible for mapping\n",
        "#features extracted by the network to class predictions, changing the original 1000-class output layer (from ImageNet) into a smaller\n",
        " #(or differently sized) classifier layer for your dataset with num_classes\n",
        "        model.classifier[6] = nn.Sequential(\n",
        "            nn.Linear(n_inputs, 256), nn.ReLU(), nn.Dropout(0.2),\n",
        "            nn.Linear(256, num_classes), nn.LogSoftmax(dim=1))\n",
        "    return model"
      ]
    },
    {
      "cell_type": "code",
      "execution_count": null,
      "metadata": {
        "colab": {
          "base_uri": "https://localhost:8080/"
        },
        "id": "Ih-fnIVUHw2u",
        "outputId": "b22f9a9e-2718-4366-9b45-a98a861d9c0f"
      },
      "outputs": [
        {
          "output_type": "stream",
          "name": "stderr",
          "text": [
            "/usr/local/lib/python3.11/dist-packages/torchvision/models/_utils.py:208: UserWarning: The parameter 'pretrained' is deprecated since 0.13 and may be removed in the future, please use 'weights' instead.\n",
            "  warnings.warn(\n",
            "/usr/local/lib/python3.11/dist-packages/torchvision/models/_utils.py:223: UserWarning: Arguments other than a weight enum or `None` for 'weights' are deprecated since 0.13 and may be removed in the future. The current behavior is equivalent to passing `weights=VGG16_Weights.IMAGENET1K_V1`. You can also use `weights=VGG16_Weights.DEFAULT` to get the most up-to-date weights.\n",
            "  warnings.warn(msg)\n",
            "Downloading: \"https://download.pytorch.org/models/vgg16-397923af.pth\" to /root/.cache/torch/hub/checkpoints/vgg16-397923af.pth\n",
            "100%|██████████| 528M/528M [00:04<00:00, 135MB/s]\n"
          ]
        },
        {
          "output_type": "stream",
          "name": "stdout",
          "text": [
            "4096\n",
            "----------------------------------------------------------------\n",
            "        Layer (type)               Output Shape         Param #\n",
            "================================================================\n",
            "            Conv2d-1           [64, 64, 32, 32]           1,792\n",
            "              ReLU-2           [64, 64, 32, 32]               0\n",
            "            Conv2d-3           [64, 64, 32, 32]          36,928\n",
            "              ReLU-4           [64, 64, 32, 32]               0\n",
            "         MaxPool2d-5           [64, 64, 16, 16]               0\n",
            "            Conv2d-6          [64, 128, 16, 16]          73,856\n",
            "              ReLU-7          [64, 128, 16, 16]               0\n",
            "            Conv2d-8          [64, 128, 16, 16]         147,584\n",
            "              ReLU-9          [64, 128, 16, 16]               0\n",
            "        MaxPool2d-10            [64, 128, 8, 8]               0\n",
            "           Conv2d-11            [64, 256, 8, 8]         295,168\n",
            "             ReLU-12            [64, 256, 8, 8]               0\n",
            "           Conv2d-13            [64, 256, 8, 8]         590,080\n",
            "             ReLU-14            [64, 256, 8, 8]               0\n",
            "           Conv2d-15            [64, 256, 8, 8]         590,080\n",
            "             ReLU-16            [64, 256, 8, 8]               0\n",
            "        MaxPool2d-17            [64, 256, 4, 4]               0\n",
            "           Conv2d-18            [64, 512, 4, 4]       1,180,160\n",
            "             ReLU-19            [64, 512, 4, 4]               0\n",
            "           Conv2d-20            [64, 512, 4, 4]       2,359,808\n",
            "             ReLU-21            [64, 512, 4, 4]               0\n",
            "           Conv2d-22            [64, 512, 4, 4]       2,359,808\n",
            "             ReLU-23            [64, 512, 4, 4]               0\n",
            "        MaxPool2d-24            [64, 512, 2, 2]               0\n",
            "           Conv2d-25            [64, 512, 2, 2]       2,359,808\n",
            "             ReLU-26            [64, 512, 2, 2]               0\n",
            "           Conv2d-27            [64, 512, 2, 2]       2,359,808\n",
            "             ReLU-28            [64, 512, 2, 2]               0\n",
            "           Conv2d-29            [64, 512, 2, 2]       2,359,808\n",
            "             ReLU-30            [64, 512, 2, 2]               0\n",
            "        MaxPool2d-31            [64, 512, 1, 1]               0\n",
            "AdaptiveAvgPool2d-32            [64, 512, 7, 7]               0\n",
            "           Linear-33                 [64, 4096]     102,764,544\n",
            "             ReLU-34                 [64, 4096]               0\n",
            "          Dropout-35                 [64, 4096]               0\n",
            "           Linear-36                 [64, 4096]      16,781,312\n",
            "             ReLU-37                 [64, 4096]               0\n",
            "          Dropout-38                 [64, 4096]               0\n",
            "           Linear-39                  [64, 256]       1,048,832\n",
            "             ReLU-40                  [64, 256]               0\n",
            "          Dropout-41                  [64, 256]               0\n",
            "           Linear-42                   [64, 10]           2,570\n",
            "       LogSoftmax-43                   [64, 10]               0\n",
            "================================================================\n",
            "Total params: 135,311,946\n",
            "Trainable params: 1,051,402\n",
            "Non-trainable params: 134,260,544\n",
            "----------------------------------------------------------------\n",
            "Input size (MB): 0.75\n",
            "Forward/backward pass size (MB): 309.88\n",
            "Params size (MB): 516.17\n",
            "Estimated Total Size (MB): 826.81\n",
            "----------------------------------------------------------------\n"
          ]
        }
      ],
      "source": [
        "from torchsummary import summary\n",
        "model = get_pretrained_model('vgg16')\n",
        "model.to(device)\n",
        "summary(model, input_size=(3, 32, 32), batch_size=batch_size, device='cuda')"
      ]
    },
    {
      "cell_type": "code",
      "execution_count": null,
      "metadata": {
        "colab": {
          "base_uri": "https://localhost:8080/"
        },
        "id": "RMImk3ooIzWe",
        "outputId": "81a74db6-689a-468f-90d7-3ae38b37e2a0"
      },
      "outputs": [
        {
          "output_type": "stream",
          "name": "stdout",
          "text": [
            "Sequential(\n",
            "  (0): Linear(in_features=4096, out_features=256, bias=True)\n",
            "  (1): ReLU()\n",
            "  (2): Dropout(p=0.2, inplace=False)\n",
            "  (3): Linear(in_features=256, out_features=10, bias=True)\n",
            "  (4): LogSoftmax(dim=1)\n",
            ")\n"
          ]
        }
      ],
      "source": [
        "print(model.classifier[6])"
      ]
    },
    {
      "cell_type": "code",
      "execution_count": null,
      "metadata": {
        "colab": {
          "base_uri": "https://localhost:8080/"
        },
        "id": "iK85FRquJHVe",
        "outputId": "d85c713a-5f98-4408-c998-2f3bc713128b"
      },
      "outputs": [
        {
          "output_type": "execute_result",
          "data": {
            "text/plain": [
              "[(0, 'airplane'),\n",
              " (1, 'automobile'),\n",
              " (2, 'bird'),\n",
              " (3, 'cat'),\n",
              " (4, 'deer'),\n",
              " (5, 'dog'),\n",
              " (6, 'frog'),\n",
              " (7, 'horse'),\n",
              " (8, 'ship'),\n",
              " (9, 'truck')]"
            ]
          },
          "metadata": {},
          "execution_count": 18
        }
      ],
      "source": [
        "model.class_to_idx = train_dataset.class_to_idx\n",
        "model.idx_to_class = {\n",
        "    idx: class_\n",
        "    for class_, idx in model.class_to_idx.items()\n",
        "}\n",
        "\n",
        "list(model.idx_to_class.items())[:10]"
      ]
    },
    {
      "cell_type": "code",
      "execution_count": null,
      "metadata": {
        "id": "t9pL6L6dKlAB"
      },
      "outputs": [],
      "source": [
        "train_on_gpu = torch.cuda.is_available()\n",
        "if train_on_gpu:\n",
        "    model = model.to('cuda')"
      ]
    },
    {
      "cell_type": "code",
      "execution_count": null,
      "metadata": {
        "colab": {
          "base_uri": "https://localhost:8080/"
        },
        "id": "dqeUi-Z-TgsZ",
        "outputId": "84d6e33c-77e5-4c5a-dc91-36fc81a1a7c3"
      },
      "outputs": [
        {
          "output_type": "stream",
          "name": "stdout",
          "text": [
            "Total number of trainable model parameters: 1051402\n"
          ]
        }
      ],
      "source": [
        "#Returns the total number of elements in the input tensor.\n",
        "num_params = sum(p.numel() for p in model.parameters() if p.requires_grad)\n",
        "print(\"Total number of trainable model parameters:\", num_params)"
      ]
    },
    {
      "cell_type": "code",
      "execution_count": null,
      "metadata": {
        "id": "Wk1UBPXdDKlA"
      },
      "outputs": [],
      "source": [
        "# Step 4: Define loss function and optimizer\n",
        "criterion = nn.CrossEntropyLoss()\n",
        "optimizer = optim.Adam(model.parameters(), lr=learning_rate)"
      ]
    },
    {
      "cell_type": "code",
      "execution_count": null,
      "metadata": {
        "colab": {
          "base_uri": "https://localhost:8080/"
        },
        "id": "Owdh9Ss5DNSg",
        "outputId": "1a7825a5-13aa-4274-fb07-155d6d3b55b7"
      },
      "outputs": [
        {
          "output_type": "stream",
          "name": "stdout",
          "text": [
            "Starting epoch 1\n",
            "batch 100, Loss: 1.485339810848236\n",
            "batch 200, Loss: 1.3010353279113769\n",
            "batch 300, Loss: 1.275811059474945\n",
            "batch 400, Loss: 1.282517575621605\n",
            "batch 500, Loss: 1.2473729878664017\n",
            "batch 600, Loss: 1.2227535676956176\n",
            "batch 700, Loss: 1.2327392476797103\n",
            "Starting epoch 2\n",
            "batch 100, Loss: 1.1877826249599457\n",
            "batch 200, Loss: 1.1785250842571258\n",
            "batch 300, Loss: 1.161914011836052\n",
            "batch 400, Loss: 1.189522801041603\n",
            "batch 500, Loss: 1.1978879243135452\n",
            "batch 600, Loss: 1.1779108756780625\n",
            "batch 700, Loss: 1.180791630744934\n",
            "Starting epoch 3\n",
            "batch 100, Loss: 1.133305692076683\n",
            "batch 200, Loss: 1.1508476078510284\n",
            "batch 300, Loss: 1.146054611802101\n",
            "batch 400, Loss: 1.1484496718645096\n",
            "batch 500, Loss: 1.1763249325752259\n",
            "batch 600, Loss: 1.14164002597332\n",
            "batch 700, Loss: 1.134975568652153\n",
            "Starting epoch 4\n",
            "batch 100, Loss: 1.1022539538145066\n",
            "batch 200, Loss: 1.1043799358606339\n",
            "batch 300, Loss: 1.106764291524887\n",
            "batch 400, Loss: 1.1287304383516312\n",
            "batch 500, Loss: 1.1265617042779923\n",
            "batch 600, Loss: 1.1309332156181335\n",
            "batch 700, Loss: 1.1438132548332214\n",
            "Starting epoch 5\n",
            "batch 100, Loss: 1.0900414383411408\n",
            "batch 200, Loss: 1.076435078382492\n",
            "batch 300, Loss: 1.0987681484222411\n",
            "batch 400, Loss: 1.117142654657364\n",
            "batch 500, Loss: 1.1183044022321702\n",
            "batch 600, Loss: 1.1043531209230424\n",
            "batch 700, Loss: 1.113718485236168\n",
            "Training process has been completed. \n",
            "Training time: 0:01:54.107933\n"
          ]
        }
      ],
      "source": [
        "# Step 5: Train the model\n",
        "start_time = time.time()\n",
        "\n",
        "for epoch in range(num_epochs):\n",
        "    print(f'Starting epoch {epoch + 1}')\n",
        "    running_loss = 0.0\n",
        "\n",
        "    model.train() # Set the model to training mode\n",
        "\n",
        "    for i, batch in enumerate(train_loader,0):\n",
        "\n",
        "        images, labels = batch\n",
        "        images, labels = images.to(device), labels.to(device) # Move the model to the device\n",
        "\n",
        "        # Forward propagate\n",
        "        outputs = model(images) # Forward pass\n",
        "        loss = criterion(outputs, labels) # Compute the loss\n",
        "\n",
        "        # Backpropagate\n",
        "        optimizer.zero_grad() # Zero the gradients\n",
        "        loss.backward() # Backward pass (compute gradients)\n",
        "\n",
        "       # Update parameters\n",
        "        optimizer.step() # Update model parameters\n",
        "\n",
        "        running_loss += loss.item()\n",
        "        if i % 100 == 99:\n",
        "             print(f'batch {i+1}, Loss: {running_loss/100}')\n",
        "             running_loss = 0.0\n",
        "\n",
        "   # print(f'Epoch [{epoch+1}/{num_epochs}], Loss: {loss.item():.4f}')\n",
        "\n",
        "end_time = time.time() # Record end time\n",
        "print('Training process has been completed. ')\n",
        "training_time = end_time - start_time\n",
        "\n",
        "print('Training time:', str(datetime.timedelta(seconds=training_time))) # for calculating the training time in minutes and seconds format\n"
      ]
    },
    {
      "cell_type": "code",
      "execution_count": null,
      "metadata": {
        "colab": {
          "base_uri": "https://localhost:8080/"
        },
        "id": "ns7YxLVPDQjw",
        "outputId": "13645d2b-1f62-4405-a2af-bf9a2856f0c6"
      },
      "outputs": [
        {
          "output_type": "stream",
          "name": "stdout",
          "text": [
            "Accuracy of the model on the test images: 62.12%\n"
          ]
        }
      ],
      "source": [
        "# Step 6: Evaluate model performance\n",
        "model.eval() # Set the model to evaluation mode\n",
        "with torch.no_grad():\n",
        "    correct = 0\n",
        "    total = 0\n",
        "    for batch in test_loader:\n",
        "        images, labels = batch\n",
        "        images, labels = images.to(device), labels.to(device)\n",
        "\n",
        "        outputs = model(images)\n",
        "        _, predicted = torch.max(outputs.data, 1) #Get the predicted classes from the output logits\n",
        "\n",
        "        total += labels.size(0) #labels:Tensor with dimensions [no of samples in the batch, 1], labels.size(0) returns no of samples in a batch\n",
        "        correct += (predicted == labels).sum().item()\n",
        "\n",
        "    print(f'Accuracy of the model on the test images: {100 * correct / total:.2f}%')"
      ]
    },
    {
      "cell_type": "code",
      "execution_count": null,
      "metadata": {
        "colab": {
          "base_uri": "https://localhost:8080/",
          "height": 487
        },
        "id": "MyYUa87eo8sm",
        "outputId": "f1a6d58e-e672-40d1-833c-ce2f36f08ffc"
      },
      "outputs": [
        {
          "output_type": "stream",
          "name": "stderr",
          "text": [
            "WARNING:matplotlib.image:Clipping input data to the valid range for imshow with RGB data ([0..1] for floats or [0..255] for integers). Got range [-1.0..1.0].\n"
          ]
        },
        {
          "output_type": "display_data",
          "data": {
            "text/plain": [
              "<Figure size 640x480 with 1 Axes>"
            ],
            "image/png": "[encoded data removed]"
          },
          "metadata": {}
        },
        {
          "output_type": "stream",
          "name": "stdout",
          "text": [
            "Predicted label for the first test image: 1\n"
          ]
        }
      ],
      "source": [
        "import matplotlib.pyplot as plt\n",
        "\n",
        "# Step 7: Use the model for inference\n",
        "sample_image, _ = test_dataset[6]  # Take the sixth test sample\n",
        "\n",
        "# Display the test image\n",
        "plt.imshow(sample_image.permute(1, 2, 0))\n",
        "#plt.imshow(sample_image.squeeze(), cmap='gray')  # Remove the batch dimension and display the image\n",
        "plt.title('Test Image')\n",
        "plt.show()\n",
        "\n",
        "# Add batch dimension and move the image to the device\n",
        "sample_image = sample_image.unsqueeze(0).to(device)  # Add batch dimension\n",
        "\n",
        "# Set model to evaluation mode\n",
        "model.eval()\n",
        "\n",
        "# Perform inference without tracking gradients\n",
        "with torch.no_grad():\n",
        "    prediction = model(sample_image)\n",
        "    predicted_label = torch.argmax(prediction, 1).item()  # Get the predicted class label\n",
        "    print(f'Predicted label for the first test image: {predicted_label}')\n"
      ]
    }
  ],
  "metadata": {
    "accelerator": "GPU",
    "colab": {
      "gpuType": "T4",
      "provenance": []
    },
    "kernelspec": {
      "display_name": "Python 3",
      "name": "python3"
    },
    "language_info": {
      "name": "python"
    }
  },
  "nbformat": 4,
  "nbformat_minor": 0
}