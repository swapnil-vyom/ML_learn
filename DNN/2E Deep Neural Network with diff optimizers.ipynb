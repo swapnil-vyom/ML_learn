{
 "cells": [
  {
   "cell_type": "markdown",
   "metadata": {},
   "source": [
    "# Deep Neural Network using Keras"
   ]
  },
  {
   "cell_type": "code",
   "execution_count": 1,
   "metadata": {},
   "outputs": [
    {
     "name": "stderr",
     "output_type": "stream",
     "text": [
      "C:\\Anaconda3\\lib\\site-packages\\tensorflow\\python\\framework\\dtypes.py:516: FutureWarning: Passing (type, 1) or '1type' as a synonym of type is deprecated; in a future version of numpy, it will be understood as (type, (1,)) / '(1,)type'.\n",
      "  _np_qint8 = np.dtype([(\"qint8\", np.int8, 1)])\n",
      "C:\\Anaconda3\\lib\\site-packages\\tensorflow\\python\\framework\\dtypes.py:517: FutureWarning: Passing (type, 1) or '1type' as a synonym of type is deprecated; in a future version of numpy, it will be understood as (type, (1,)) / '(1,)type'.\n",
      "  _np_quint8 = np.dtype([(\"quint8\", np.uint8, 1)])\n",
      "C:\\Anaconda3\\lib\\site-packages\\tensorflow\\python\\framework\\dtypes.py:518: FutureWarning: Passing (type, 1) or '1type' as a synonym of type is deprecated; in a future version of numpy, it will be understood as (type, (1,)) / '(1,)type'.\n",
      "  _np_qint16 = np.dtype([(\"qint16\", np.int16, 1)])\n",
      "C:\\Anaconda3\\lib\\site-packages\\tensorflow\\python\\framework\\dtypes.py:519: FutureWarning: Passing (type, 1) or '1type' as a synonym of type is deprecated; in a future version of numpy, it will be understood as (type, (1,)) / '(1,)type'.\n",
      "  _np_quint16 = np.dtype([(\"quint16\", np.uint16, 1)])\n",
      "C:\\Anaconda3\\lib\\site-packages\\tensorflow\\python\\framework\\dtypes.py:520: FutureWarning: Passing (type, 1) or '1type' as a synonym of type is deprecated; in a future version of numpy, it will be understood as (type, (1,)) / '(1,)type'.\n",
      "  _np_qint32 = np.dtype([(\"qint32\", np.int32, 1)])\n",
      "C:\\Anaconda3\\lib\\site-packages\\tensorflow\\python\\framework\\dtypes.py:525: FutureWarning: Passing (type, 1) or '1type' as a synonym of type is deprecated; in a future version of numpy, it will be understood as (type, (1,)) / '(1,)type'.\n",
      "  np_resource = np.dtype([(\"resource\", np.ubyte, 1)])\n",
      "C:\\Anaconda3\\lib\\site-packages\\tensorboard\\compat\\tensorflow_stub\\dtypes.py:541: FutureWarning: Passing (type, 1) or '1type' as a synonym of type is deprecated; in a future version of numpy, it will be understood as (type, (1,)) / '(1,)type'.\n",
      "  _np_qint8 = np.dtype([(\"qint8\", np.int8, 1)])\n",
      "C:\\Anaconda3\\lib\\site-packages\\tensorboard\\compat\\tensorflow_stub\\dtypes.py:542: FutureWarning: Passing (type, 1) or '1type' as a synonym of type is deprecated; in a future version of numpy, it will be understood as (type, (1,)) / '(1,)type'.\n",
      "  _np_quint8 = np.dtype([(\"quint8\", np.uint8, 1)])\n",
      "C:\\Anaconda3\\lib\\site-packages\\tensorboard\\compat\\tensorflow_stub\\dtypes.py:543: FutureWarning: Passing (type, 1) or '1type' as a synonym of type is deprecated; in a future version of numpy, it will be understood as (type, (1,)) / '(1,)type'.\n",
      "  _np_qint16 = np.dtype([(\"qint16\", np.int16, 1)])\n",
      "C:\\Anaconda3\\lib\\site-packages\\tensorboard\\compat\\tensorflow_stub\\dtypes.py:544: FutureWarning: Passing (type, 1) or '1type' as a synonym of type is deprecated; in a future version of numpy, it will be understood as (type, (1,)) / '(1,)type'.\n",
      "  _np_quint16 = np.dtype([(\"quint16\", np.uint16, 1)])\n",
      "C:\\Anaconda3\\lib\\site-packages\\tensorboard\\compat\\tensorflow_stub\\dtypes.py:545: FutureWarning: Passing (type, 1) or '1type' as a synonym of type is deprecated; in a future version of numpy, it will be understood as (type, (1,)) / '(1,)type'.\n",
      "  _np_qint32 = np.dtype([(\"qint32\", np.int32, 1)])\n",
      "C:\\Anaconda3\\lib\\site-packages\\tensorboard\\compat\\tensorflow_stub\\dtypes.py:550: FutureWarning: Passing (type, 1) or '1type' as a synonym of type is deprecated; in a future version of numpy, it will be understood as (type, (1,)) / '(1,)type'.\n",
      "  np_resource = np.dtype([(\"resource\", np.ubyte, 1)])\n"
     ]
    }
   ],
   "source": [
    "import tensorflow as tf\n",
    "\n",
    "from tensorflow.keras import models\n",
    "from tensorflow.keras import layers\n",
    "\n",
    "import random\n",
    "import numpy as np"
   ]
  },
  {
   "cell_type": "code",
   "execution_count": 2,
   "metadata": {},
   "outputs": [],
   "source": [
    "random.seed(42)         # Initialize the random number generator.\n",
    "np.random.seed(42)      # With the seed reset, the same set of \n",
    "                        # numbers will appear every time. \n",
    "tf.set_random_seed(42)  # sets the graph-level random seed"
   ]
  },
  {
   "cell_type": "markdown",
   "metadata": {},
   "source": [
    "## Dataset"
   ]
  },
  {
   "cell_type": "code",
   "execution_count": 3,
   "metadata": {},
   "outputs": [],
   "source": [
    "# Use the MNIST dataset  of Keras.\n",
    "\n",
    "mnist = tf.keras.datasets.mnist\n",
    "\n",
    "(Xtrain, Ytrain) , (Xtest, Ytest) = mnist.load_data()"
   ]
  },
  {
   "cell_type": "code",
   "execution_count": 4,
   "metadata": {},
   "outputs": [
    {
     "data": {
      "text/plain": [
       "Text(0.5, 1.0, 'Ground Truth (Test): 7')"
      ]
     },
     "execution_count": 4,
     "metadata": {},
     "output_type": "execute_result"
    }
   ],
   "source": [
    "import matplotlib.pyplot as plt\n",
    "\n",
    "plt.figure(figsize=[5,5])\n",
    "\n",
    "# Display the first image in training data\n",
    "plt.subplot(121)\n",
    "plt.imshow(Xtrain[0,:,:], cmap='gray')\n",
    "plt.title(\"Ground Truth (Train) : {}\".format(Ytrain[0]))\n",
    "\n",
    "# Display the first image in testing data\n",
    "plt.subplot(122)\n",
    "plt.imshow(Xtest[0,:,:], cmap='gray')\n",
    "plt.title(\"Ground Truth (Test): {}\".format(Ytest[0]))"
   ]
  },
  {
   "cell_type": "code",
   "execution_count": 5,
   "metadata": {},
   "outputs": [
    {
     "name": "stdout",
     "output_type": "stream",
     "text": [
      "(60000, 28, 28)\n",
      "(10000, 28, 28)\n",
      "(60000,)\n",
      "(10000,)\n"
     ]
    }
   ],
   "source": [
    "# size of the datsets\n",
    "\n",
    "print(Xtrain.shape)\n",
    "print(Xtest.shape)\n",
    "print(Ytrain.shape)\n",
    "print(Ytest.shape)"
   ]
  },
  {
   "cell_type": "code",
   "execution_count": 6,
   "metadata": {},
   "outputs": [
    {
     "name": "stdout",
     "output_type": "stream",
     "text": [
      "Xtrain \n",
      " [  0   0   0   0   0   0   0   0   0   0   0   0   0  24 209 254 254 254\n",
      " 171   0   0   0   0   0   0   0   0   0]\n",
      "Xtest \n",
      " [  0   0   0   0   0   0   0   0 194 254 103   0   0   0   0   0   0   0\n",
      "   0   0 150 254 213   0   0   0   0   0]\n",
      "Ytrain \n",
      " 3\n",
      "Ytest \n",
      " 0\n"
     ]
    }
   ],
   "source": [
    "# print a sample data\n",
    "\n",
    "print('Xtrain \\n', Xtrain[10,10])\n",
    "print('Xtest \\n', Xtest[10,10])\n",
    "print('Ytrain \\n', Ytrain[10,])\n",
    "print('Ytest \\n', Ytest[10,])"
   ]
  },
  {
   "cell_type": "code",
   "execution_count": 7,
   "metadata": {},
   "outputs": [],
   "source": [
    "# Normalize the data\n",
    "# 60000 input images are in the train set.\n",
    "# 10000 input images are in the test set.\n",
    "\n",
    "Xtrain = Xtrain.reshape((60000, 28*28))    # reshape the input set to size 28*28. \n",
    "Xtrain = Xtrain.astype('float32')/255      # normalize to grayscale; set datatype as float32\n",
    "\n",
    "Xtest = Xtest.reshape((10000, 28*28))      # reshape the input set to size 28*28. \n",
    "Xtest = Xtest.astype('float32')/255        # normalize to grayscale; set datatype as float32\n",
    "\n",
    "Ytrain = tf.keras.utils.to_categorical(Ytrain)\n",
    "Ytest = tf.keras.utils.to_categorical(Ytest)"
   ]
  },
  {
   "cell_type": "code",
   "execution_count": 8,
   "metadata": {},
   "outputs": [
    {
     "name": "stdout",
     "output_type": "stream",
     "text": [
      "Xtrain \n",
      " 0.0\n",
      "Xtest \n",
      " 0.0\n",
      "Ytrain \n",
      " [0. 0. 0. 1. 0. 0. 0. 0. 0. 0.]\n",
      "Ytest \n",
      " [1. 0. 0. 0. 0. 0. 0. 0. 0. 0.]\n"
     ]
    }
   ],
   "source": [
    "# print a sample data\n",
    "\n",
    "print('Xtrain \\n', Xtrain[10,10])\n",
    "print('Xtest \\n', Xtest[10,10])\n",
    "print('Ytrain \\n', Ytrain[10,])\n",
    "print('Ytest \\n', Ytest[10,])"
   ]
  },
  {
   "cell_type": "markdown",
   "metadata": {},
   "source": [
    "## DNN Model"
   ]
  },
  {
   "cell_type": "markdown",
   "metadata": {},
   "source": [
    "Using Keras, create the DNN or Sequential Model"
   ]
  },
  {
   "cell_type": "code",
   "execution_count": 9,
   "metadata": {},
   "outputs": [],
   "source": [
    "# Create a model object\n",
    "\n",
    "dnnModel = models.Sequential()"
   ]
  },
  {
   "cell_type": "markdown",
   "metadata": {},
   "source": [
    "Add dense layers, specifying the number of units in each layer and the activation function used in the layer."
   ]
  },
  {
   "cell_type": "code",
   "execution_count": 10,
   "metadata": {},
   "outputs": [
    {
     "name": "stdout",
     "output_type": "stream",
     "text": [
      "WARNING:tensorflow:From C:\\Anaconda3\\lib\\site-packages\\tensorflow\\python\\ops\\init_ops.py:1251: calling VarianceScaling.__init__ (from tensorflow.python.ops.init_ops) with dtype is deprecated and will be removed in a future version.\n",
      "Instructions for updating:\n",
      "Call initializer instance with the dtype argument instead of passing it to the constructor\n",
      "Model: \"sequential\"\n",
      "_________________________________________________________________\n",
      "Layer (type)                 Output Shape              Param #   \n",
      "=================================================================\n",
      "dense (Dense)                (None, 50)                39250     \n",
      "_________________________________________________________________\n",
      "dense_1 (Dense)              (None, 60)                3060      \n",
      "_________________________________________________________________\n",
      "dense_2 (Dense)              (None, 30)                1830      \n",
      "_________________________________________________________________\n",
      "dense_3 (Dense)              (None, 10)                310       \n",
      "=================================================================\n",
      "Total params: 44,450\n",
      "Trainable params: 44,450\n",
      "Non-trainable params: 0\n",
      "_________________________________________________________________\n"
     ]
    }
   ],
   "source": [
    "# Layer 1 = input layer\n",
    "# specify the input size in the first layer.\n",
    "\n",
    "dnnModel.add(layers.Dense(50, activation='relu', input_shape= (28*28,)))\n",
    "\n",
    "# Layer 2 = hidden layer \n",
    "dnnModel.add(layers.Dense(60, activation='relu'))\n",
    "\n",
    "# Layer 3 = hidden layer \n",
    "dnnModel.add(layers.Dense(30, activation='relu'))\n",
    "\n",
    "\n",
    "# Layer 4 = output layer\n",
    "dnnModel.add(layers.Dense(10, activation='softmax'))\n",
    "\n",
    "dnnModel.summary()"
   ]
  },
  {
   "cell_type": "code",
   "execution_count": 11,
   "metadata": {},
   "outputs": [
    {
     "name": "stdout",
     "output_type": "stream",
     "text": [
      "Model: \"sequential_1\"\n",
      "_________________________________________________________________\n",
      "Layer (type)                 Output Shape              Param #   \n",
      "=================================================================\n",
      "dense_4 (Dense)              (None, 50)                39250     \n",
      "_________________________________________________________________\n",
      "dense_5 (Dense)              (None, 60)                3060      \n",
      "_________________________________________________________________\n",
      "dense_6 (Dense)              (None, 30)                1830      \n",
      "_________________________________________________________________\n",
      "dense_7 (Dense)              (None, 10)                310       \n",
      "=================================================================\n",
      "Total params: 44,450\n",
      "Trainable params: 44,450\n",
      "Non-trainable params: 0\n",
      "_________________________________________________________________\n"
     ]
    }
   ],
   "source": [
    "dnnModel_adam = models.Sequential()\n",
    "dnnModel_adam.add(layers.Dense(50, activation='relu', input_shape= (28*28,)))\n",
    "dnnModel_adam.add(layers.Dense(60, activation='relu'))\n",
    "dnnModel_adam.add(layers.Dense(30, activation='relu'))\n",
    "dnnModel_adam.add(layers.Dense(10, activation='softmax'))\n",
    "dnnModel_adam.summary()"
   ]
  },
  {
   "cell_type": "code",
   "execution_count": 13,
   "metadata": {},
   "outputs": [
    {
     "name": "stdout",
     "output_type": "stream",
     "text": [
      "Model: \"sequential_2\"\n",
      "_________________________________________________________________\n",
      "Layer (type)                 Output Shape              Param #   \n",
      "=================================================================\n",
      "dense_8 (Dense)              (None, 50)                39250     \n",
      "_________________________________________________________________\n",
      "dense_9 (Dense)              (None, 60)                3060      \n",
      "_________________________________________________________________\n",
      "dense_10 (Dense)             (None, 30)                1830      \n",
      "_________________________________________________________________\n",
      "dense_11 (Dense)             (None, 10)                310       \n",
      "=================================================================\n",
      "Total params: 44,450\n",
      "Trainable params: 44,450\n",
      "Non-trainable params: 0\n",
      "_________________________________________________________________\n"
     ]
    }
   ],
   "source": [
    "dnnModel_rmsprop = models.Sequential()\n",
    "dnnModel_rmsprop.add(layers.Dense(50, activation='relu', input_shape= (28*28,)))\n",
    "dnnModel_rmsprop.add(layers.Dense(60, activation='relu'))\n",
    "dnnModel_rmsprop.add(layers.Dense(30, activation='relu'))\n",
    "dnnModel_rmsprop.add(layers.Dense(10, activation='softmax'))\n",
    "dnnModel_rmsprop.summary()"
   ]
  },
  {
   "cell_type": "markdown",
   "metadata": {},
   "source": [
    "## Regularization and Optimizations of DNN"
   ]
  },
  {
   "cell_type": "code",
   "execution_count": 14,
   "metadata": {},
   "outputs": [],
   "source": [
    "# Configure  the model for training, by using appropriate optimizers and regularizations\n",
    "# Available optimizer: adam, rmsprop, adagrad, sgd\n",
    "# loss:  objective that the model will try to minimize. \n",
    "# Available loss: categorical_crossentropy, binary_crossentropy, mean_squared_error\n",
    "# metrics: List of metrics to be evaluated by the model during training and testing. \n",
    "        \n",
    "dnnModel.compile( optimizer = 'sgd', loss = 'categorical_crossentropy', metrics=['accuracy'] )\n",
    "dnnModel_adam.compile( optimizer = 'adam', loss = 'categorical_crossentropy', metrics=['accuracy'] )\n",
    "dnnModel_rmsprop.compile( optimizer = 'rmsprop', loss = 'categorical_crossentropy', metrics=['accuracy'] )"
   ]
  },
  {
   "cell_type": "markdown",
   "metadata": {},
   "source": [
    "## Train the Model"
   ]
  },
  {
   "cell_type": "code",
   "execution_count": 16,
   "metadata": {},
   "outputs": [
    {
     "name": "stdout",
     "output_type": "stream",
     "text": [
      "Train on 54000 samples, validate on 6000 samples\n",
      "Epoch 1/25\n",
      "54000/54000 [==============================] - 3s 55us/sample - loss: 1.0801 - acc: 0.6924 - val_loss: 0.3960 - val_acc: 0.8933\n",
      "Epoch 2/25\n",
      "54000/54000 [==============================] - 2s 40us/sample - loss: 0.3901 - acc: 0.8901 - val_loss: 0.2778 - val_acc: 0.9225\n",
      "Epoch 3/25\n",
      "54000/54000 [==============================] - 2s 38us/sample - loss: 0.3173 - acc: 0.9096 - val_loss: 0.2411 - val_acc: 0.9298\n",
      "Epoch 4/25\n",
      "54000/54000 [==============================] - 2s 36us/sample - loss: 0.2801 - acc: 0.9193 - val_loss: 0.2171 - val_acc: 0.9393\n",
      "Epoch 5/25\n",
      "54000/54000 [==============================] - 2s 36us/sample - loss: 0.2534 - acc: 0.9277 - val_loss: 0.1981 - val_acc: 0.9430\n",
      "Epoch 6/25\n",
      "54000/54000 [==============================] - 2s 35us/sample - loss: 0.2333 - acc: 0.9332 - val_loss: 0.1845 - val_acc: 0.9483\n",
      "Epoch 7/25\n",
      "54000/54000 [==============================] - 2s 34us/sample - loss: 0.2167 - acc: 0.9377 - val_loss: 0.1785 - val_acc: 0.9500\n",
      "Epoch 8/25\n",
      "54000/54000 [==============================] - 2s 42us/sample - loss: 0.2029 - acc: 0.9410 - val_loss: 0.1651 - val_acc: 0.9527\n",
      "Epoch 9/25\n",
      "54000/54000 [==============================] - 3s 48us/sample - loss: 0.1903 - acc: 0.9453 - val_loss: 0.1614 - val_acc: 0.9562\n",
      "Epoch 10/25\n",
      "54000/54000 [==============================] - 2s 40us/sample - loss: 0.1796 - acc: 0.9483 - val_loss: 0.1550 - val_acc: 0.9580\n",
      "Epoch 11/25\n",
      "54000/54000 [==============================] - 2s 38us/sample - loss: 0.1696 - acc: 0.9512 - val_loss: 0.1453 - val_acc: 0.9612\n",
      "Epoch 12/25\n",
      "54000/54000 [==============================] - 2s 37us/sample - loss: 0.1611 - acc: 0.9535 - val_loss: 0.1389 - val_acc: 0.9630\n",
      "Epoch 13/25\n",
      "54000/54000 [==============================] - 2s 36us/sample - loss: 0.1525 - acc: 0.9556 - val_loss: 0.1339 - val_acc: 0.9642\n",
      "Epoch 14/25\n",
      "54000/54000 [==============================] - 2s 36us/sample - loss: 0.1450 - acc: 0.9580 - val_loss: 0.1302 - val_acc: 0.9663\n",
      "Epoch 15/25\n",
      "54000/54000 [==============================] - 2s 37us/sample - loss: 0.1385 - acc: 0.9601 - val_loss: 0.1235 - val_acc: 0.9658\n",
      "Epoch 16/25\n",
      "54000/54000 [==============================] - 2s 34us/sample - loss: 0.1320 - acc: 0.9614 - val_loss: 0.1236 - val_acc: 0.9653\n",
      "Epoch 17/25\n",
      "54000/54000 [==============================] - 2s 36us/sample - loss: 0.1263 - acc: 0.9633 - val_loss: 0.1189 - val_acc: 0.9667\n",
      "Epoch 18/25\n",
      "54000/54000 [==============================] - 2s 37us/sample - loss: 0.1211 - acc: 0.9650 - val_loss: 0.1202 - val_acc: 0.9668\n",
      "Epoch 19/25\n",
      "54000/54000 [==============================] - 2s 34us/sample - loss: 0.1164 - acc: 0.9664 - val_loss: 0.1161 - val_acc: 0.9687\n",
      "Epoch 20/25\n",
      "54000/54000 [==============================] - 2s 35us/sample - loss: 0.1118 - acc: 0.9679 - val_loss: 0.1125 - val_acc: 0.9677\n",
      "Epoch 21/25\n",
      "54000/54000 [==============================] - 2s 33us/sample - loss: 0.1073 - acc: 0.9691 - val_loss: 0.1114 - val_acc: 0.9703\n",
      "Epoch 22/25\n",
      "54000/54000 [==============================] - 2s 33us/sample - loss: 0.1031 - acc: 0.9701 - val_loss: 0.1098 - val_acc: 0.9693\n",
      "Epoch 23/25\n",
      "54000/54000 [==============================] - 2s 34us/sample - loss: 0.0996 - acc: 0.9709 - val_loss: 0.1041 - val_acc: 0.9722\n",
      "Epoch 24/25\n",
      "54000/54000 [==============================] - 2s 35us/sample - loss: 0.0961 - acc: 0.9721 - val_loss: 0.1046 - val_acc: 0.9715\n",
      "Epoch 25/25\n",
      "54000/54000 [==============================] - 2s 36us/sample - loss: 0.0927 - acc: 0.9723 - val_loss: 0.1046 - val_acc: 0.9712\n",
      "Train on 54000 samples, validate on 6000 samples\n",
      "Epoch 1/25\n",
      "54000/54000 [==============================] - 3s 47us/sample - loss: 0.3827 - acc: 0.8873 - val_loss: 0.1493 - val_acc: 0.9552\n",
      "Epoch 2/25\n",
      "54000/54000 [==============================] - 2s 38us/sample - loss: 0.1679 - acc: 0.9492 - val_loss: 0.1269 - val_acc: 0.9647\n",
      "Epoch 3/25\n",
      "54000/54000 [==============================] - 2s 40us/sample - loss: 0.1260 - acc: 0.9625 - val_loss: 0.1136 - val_acc: 0.9645\n",
      "Epoch 4/25\n",
      "54000/54000 [==============================] - 2s 40us/sample - loss: 0.1009 - acc: 0.9693 - val_loss: 0.1107 - val_acc: 0.9693\n",
      "Epoch 5/25\n",
      "54000/54000 [==============================] - 2s 41us/sample - loss: 0.0842 - acc: 0.9739 - val_loss: 0.0899 - val_acc: 0.9745\n",
      "Epoch 6/25\n",
      "54000/54000 [==============================] - 2s 40us/sample - loss: 0.0735 - acc: 0.9768 - val_loss: 0.0990 - val_acc: 0.9710\n",
      "Epoch 7/25\n",
      "54000/54000 [==============================] - 2s 39us/sample - loss: 0.0611 - acc: 0.9806 - val_loss: 0.0899 - val_acc: 0.9733\n",
      "Epoch 8/25\n",
      "54000/54000 [==============================] - 2s 43us/sample - loss: 0.0539 - acc: 0.9824 - val_loss: 0.0928 - val_acc: 0.9730\n",
      "Epoch 9/25\n",
      "54000/54000 [==============================] - 2s 40us/sample - loss: 0.0463 - acc: 0.9854 - val_loss: 0.1062 - val_acc: 0.9717\n",
      "Epoch 10/25\n",
      "54000/54000 [==============================] - 2s 43us/sample - loss: 0.0420 - acc: 0.9861 - val_loss: 0.1028 - val_acc: 0.9735\n",
      "Epoch 11/25\n",
      "54000/54000 [==============================] - 2s 43us/sample - loss: 0.0380 - acc: 0.9877 - val_loss: 0.1007 - val_acc: 0.9753\n",
      "Epoch 12/25\n",
      "54000/54000 [==============================] - 2s 43us/sample - loss: 0.0341 - acc: 0.9884 - val_loss: 0.1181 - val_acc: 0.9712\n",
      "Epoch 13/25\n",
      "54000/54000 [==============================] - 2s 41us/sample - loss: 0.0303 - acc: 0.9900 - val_loss: 0.1088 - val_acc: 0.9732\n",
      "Epoch 14/25\n",
      "54000/54000 [==============================] - 2s 44us/sample - loss: 0.0272 - acc: 0.9915 - val_loss: 0.1078 - val_acc: 0.9730\n",
      "Epoch 15/25\n",
      "54000/54000 [==============================] - 2s 41us/sample - loss: 0.0260 - acc: 0.9913 - val_loss: 0.1229 - val_acc: 0.9727\n",
      "Epoch 16/25\n",
      "54000/54000 [==============================] - 2s 41us/sample - loss: 0.0240 - acc: 0.9924 - val_loss: 0.1082 - val_acc: 0.9747\n",
      "Epoch 17/25\n",
      "54000/54000 [==============================] - 2s 43us/sample - loss: 0.0205 - acc: 0.9930 - val_loss: 0.1131 - val_acc: 0.9727\n",
      "Epoch 18/25\n",
      "54000/54000 [==============================] - 2s 39us/sample - loss: 0.0191 - acc: 0.9938 - val_loss: 0.1168 - val_acc: 0.9730\n",
      "Epoch 19/25\n",
      "54000/54000 [==============================] - 2s 39us/sample - loss: 0.0203 - acc: 0.9931 - val_loss: 0.1332 - val_acc: 0.9740\n",
      "Epoch 20/25\n",
      "54000/54000 [==============================] - 2s 42us/sample - loss: 0.0158 - acc: 0.9946 - val_loss: 0.1417 - val_acc: 0.9707\n",
      "Epoch 21/25\n",
      "54000/54000 [==============================] - 2s 40us/sample - loss: 0.0183 - acc: 0.9939 - val_loss: 0.1212 - val_acc: 0.9747\n",
      "Epoch 22/25\n",
      "54000/54000 [==============================] - 3s 50us/sample - loss: 0.0177 - acc: 0.9939 - val_loss: 0.1243 - val_acc: 0.9735\n",
      "Epoch 23/25\n",
      "54000/54000 [==============================] - 2s 40us/sample - loss: 0.0163 - acc: 0.9943 - val_loss: 0.1333 - val_acc: 0.9745\n",
      "Epoch 24/25\n",
      "54000/54000 [==============================] - 2s 40us/sample - loss: 0.0145 - acc: 0.9952 - val_loss: 0.1327 - val_acc: 0.9738\n",
      "Epoch 25/25\n",
      "54000/54000 [==============================] - 2s 43us/sample - loss: 0.0118 - acc: 0.9957 - val_loss: 0.1411 - val_acc: 0.9753\n",
      "Train on 54000 samples, validate on 6000 samples\n",
      "Epoch 1/25\n",
      "54000/54000 [==============================] - 3s 47us/sample - loss: 0.3627 - acc: 0.8947 - val_loss: 0.1676 - val_acc: 0.9478\n",
      "Epoch 2/25\n",
      "54000/54000 [==============================] - 2s 39us/sample - loss: 0.1669 - acc: 0.9498 - val_loss: 0.1181 - val_acc: 0.9648\n",
      "Epoch 3/25\n",
      "54000/54000 [==============================] - 2s 38us/sample - loss: 0.1257 - acc: 0.9621 - val_loss: 0.1249 - val_acc: 0.9637\n",
      "Epoch 4/25\n",
      "54000/54000 [==============================] - 2s 38us/sample - loss: 0.1019 - acc: 0.9692 - val_loss: 0.1011 - val_acc: 0.9707\n",
      "Epoch 5/25\n",
      "54000/54000 [==============================] - 2s 40us/sample - loss: 0.0879 - acc: 0.9736 - val_loss: 0.1057 - val_acc: 0.9697\n",
      "Epoch 6/25\n",
      "54000/54000 [==============================] - 2s 44us/sample - loss: 0.0746 - acc: 0.9767 - val_loss: 0.0993 - val_acc: 0.9707\n",
      "Epoch 7/25\n",
      "54000/54000 [==============================] - 3s 51us/sample - loss: 0.0657 - acc: 0.9796 - val_loss: 0.0977 - val_acc: 0.9722\n",
      "Epoch 8/25\n",
      "54000/54000 [==============================] - 2s 38us/sample - loss: 0.0583 - acc: 0.9811 - val_loss: 0.1013 - val_acc: 0.9728\n",
      "Epoch 9/25\n",
      "54000/54000 [==============================] - 2s 41us/sample - loss: 0.0541 - acc: 0.9838 - val_loss: 0.0879 - val_acc: 0.9772\n",
      "Epoch 10/25\n",
      "54000/54000 [==============================] - 2s 38us/sample - loss: 0.0479 - acc: 0.9852 - val_loss: 0.0931 - val_acc: 0.9743\n",
      "Epoch 11/25\n",
      "54000/54000 [==============================] - 2s 41us/sample - loss: 0.0434 - acc: 0.9865 - val_loss: 0.0926 - val_acc: 0.9760\n",
      "Epoch 12/25\n",
      "54000/54000 [==============================] - 2s 39us/sample - loss: 0.0387 - acc: 0.9879 - val_loss: 0.1015 - val_acc: 0.9755\n",
      "Epoch 13/25\n",
      "54000/54000 [==============================] - 2s 37us/sample - loss: 0.0362 - acc: 0.9889 - val_loss: 0.1346 - val_acc: 0.9675\n",
      "Epoch 14/25\n",
      "54000/54000 [==============================] - 2s 39us/sample - loss: 0.0335 - acc: 0.9892 - val_loss: 0.1134 - val_acc: 0.9738\n",
      "Epoch 15/25\n",
      "54000/54000 [==============================] - 2s 43us/sample - loss: 0.0303 - acc: 0.9904 - val_loss: 0.0968 - val_acc: 0.9773\n",
      "Epoch 16/25\n",
      "54000/54000 [==============================] - 2s 42us/sample - loss: 0.0270 - acc: 0.9912 - val_loss: 0.0967 - val_acc: 0.9770\n",
      "Epoch 17/25\n",
      "54000/54000 [==============================] - 2s 41us/sample - loss: 0.0254 - acc: 0.9918 - val_loss: 0.1142 - val_acc: 0.9755\n",
      "Epoch 18/25\n",
      "54000/54000 [==============================] - 2s 41us/sample - loss: 0.0237 - acc: 0.9927 - val_loss: 0.1361 - val_acc: 0.9718\n",
      "Epoch 19/25\n",
      "54000/54000 [==============================] - 2s 41us/sample - loss: 0.0209 - acc: 0.9930 - val_loss: 0.1305 - val_acc: 0.9732\n",
      "Epoch 20/25\n",
      "54000/54000 [==============================] - 2s 38us/sample - loss: 0.0208 - acc: 0.9935 - val_loss: 0.1179 - val_acc: 0.9768\n",
      "Epoch 21/25\n",
      "54000/54000 [==============================] - 2s 40us/sample - loss: 0.0187 - acc: 0.9941 - val_loss: 0.1452 - val_acc: 0.9700\n",
      "Epoch 22/25\n",
      "54000/54000 [==============================] - 2s 38us/sample - loss: 0.0150 - acc: 0.9952 - val_loss: 0.1222 - val_acc: 0.9772\n",
      "Epoch 23/25\n",
      "54000/54000 [==============================] - 2s 39us/sample - loss: 0.0162 - acc: 0.9946 - val_loss: 0.1466 - val_acc: 0.9743\n",
      "Epoch 24/25\n",
      "54000/54000 [==============================] - 2s 39us/sample - loss: 0.0163 - acc: 0.9950 - val_loss: 0.1569 - val_acc: 0.9743\n",
      "Epoch 25/25\n",
      "54000/54000 [==============================] - 2s 39us/sample - loss: 0.0149 - acc: 0.9953 - val_loss: 0.1405 - val_acc: 0.9770\n"
     ]
    }
   ],
   "source": [
    "# train the model\n",
    "\n",
    "h_sgd  = dnnModel.fit( Xtrain, Ytrain, epochs=25, batch_size=64, validation_split=0.1)\n",
    "h_adam  = dnnModel_adam.fit( Xtrain, Ytrain, epochs=25, batch_size=64, validation_split=0.1)\n",
    "h_rms  = dnnModel_rmsprop.fit( Xtrain, Ytrain, epochs=25, batch_size=64, validation_split=0.1)\n"
   ]
  },
  {
   "cell_type": "code",
   "execution_count": 17,
   "metadata": {},
   "outputs": [
    {
     "name": "stdout",
     "output_type": "stream",
     "text": [
      "SGD Final training accuracy  0.97231483\n",
      "Adam Final training accuracy  0.9956667\n",
      "RMSProp Final training accuracy  0.9952593\n"
     ]
    }
   ],
   "source": [
    "#print('Final training loss \\t', h.history['loss'][-1])\n",
    "print('SGD Final training accuracy ', h_sgd.history['acc'][-1])\n",
    "print('Adam Final training accuracy ', h_adam.history['acc'][-1])\n",
    "print('RMSProp Final training accuracy ', h_rms.history['acc'][-1])"
   ]
  },
  {
   "cell_type": "markdown",
   "metadata": {},
   "source": [
    "## Testing the Model"
   ]
  },
  {
   "cell_type": "code",
   "execution_count": 18,
   "metadata": {},
   "outputs": [
    {
     "name": "stdout",
     "output_type": "stream",
     "text": [
      "10000/10000 [==============================] - 1s 66us/sample - loss: 0.1187 - acc: 0.9632\n",
      "10000/10000 [==============================] - 1s 92us/sample - loss: 0.1502 - acc: 0.9709\n",
      "10000/10000 [==============================] - 1s 63us/sample - loss: 0.1582 - acc: 0.9743\n"
     ]
    }
   ],
   "source": [
    "# testing the model\n",
    "\n",
    "testLoss_sgd, testAccuracy_sgd = dnnModel.evaluate( Xtest, Ytest)\n",
    "testLoss_adam, testAccuracy_adam = dnnModel_adam.evaluate( Xtest, Ytest)\n",
    "testLoss_rms, testAccuracy_rms = dnnModel_rmsprop.evaluate( Xtest, Ytest)"
   ]
  },
  {
   "cell_type": "code",
   "execution_count": null,
   "metadata": {},
   "outputs": [],
   "source": [
    "print('Testing loss \\t', testLoss)\n",
    "print('Testing accuracy ', testAccuracy)"
   ]
  },
  {
   "cell_type": "code",
   "execution_count": 19,
   "metadata": {},
   "outputs": [
    {
     "data": {
      "image/png": "[encoded data removed]",
      "text/plain": [
       "<Figure size 432x288 with 1 Axes>"
      ]
     },
     "metadata": {
      "needs_background": "light"
     },
     "output_type": "display_data"
    }
   ],
   "source": [
    "# plot the training accuracy\n",
    "\n",
    "plt.plot(h_sgd.history['acc'], label='SGD')\n",
    "plt.plot(h_adam.history['acc'], label='Adam')\n",
    "plt.plot(h_rms.history['acc'], label='RmsProp')\n",
    "#plt.plot(h.history['val_acc'], label='Val Acc')\n",
    "plt.xlabel('Epochs')\n",
    "plt.ylabel('Loss')\n",
    "plt.title('Plot of Training Accuracy')\n",
    "plt.legend()\n",
    "plt.show()"
   ]
  },
  {
   "cell_type": "code",
   "execution_count": 20,
   "metadata": {},
   "outputs": [
    {
     "data": {
      "image/png": "[encoded data removed]",
      "text/plain": [
       "<Figure size 432x288 with 1 Axes>"
      ]
     },
     "metadata": {
      "needs_background": "light"
     },
     "output_type": "display_data"
    }
   ],
   "source": [
    "# plot the training loss\n",
    "\n",
    "plt.plot(h_sgd.history['loss'], label='SGD')\n",
    "plt.plot(h_adam.history['loss'], label='Adam')\n",
    "plt.plot(h_rms.history['loss'], label='RmsProp')\n",
    "#plt.plot(hes.history['val_loss'], label='Val loss') \n",
    "plt.xlabel('Epochs')\n",
    "plt.ylabel('Loss')\n",
    "plt.title('Plot of Training Loss')\n",
    "plt.legend()\n",
    "plt.show()"
   ]
  },
  {
   "cell_type": "markdown",
   "metadata": {},
   "source": [
    "# Exercise \n",
    "\n",
    "Modify the code to get a better testing accuracy.\n",
    "- Change the number of hidden units\n",
    "- Increase the number of hidden layers\n",
    "- Use a different optimizer"
   ]
  }
 ],
 "metadata": {
  "kernelspec": {
   "display_name": "Python 3 (ipykernel)",
   "language": "python",
   "name": "python3"
  },
  "language_info": {
   "codemirror_mode": {
    "name": "ipython",
    "version": 3
   },
   "file_extension": ".py",
   "mimetype": "text/x-python",
   "name": "python",
   "nbconvert_exporter": "python",
   "pygments_lexer": "ipython3",
   "version": "3.8.10"
  }
 },
 "nbformat": 4,
 "nbformat_minor": 2
}
