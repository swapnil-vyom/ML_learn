{
 "cells": [
  {
   "cell_type": "markdown",
   "metadata": {},
   "source": [
    "# Deep Neural Network with L2 /L1 Regularization using Keras"
   ]
  },
  {
   "cell_type": "code",
   "execution_count": 1,
   "metadata": {},
   "outputs": [],
   "source": [
    "import tensorflow as tf\n",
    "\n",
    "from tensorflow.keras import models\n",
    "from tensorflow.keras import layers\n",
    "from tensorflow.keras import regularizers\n",
    "\n",
    "import random\n",
    "import numpy as np\n",
    "import matplotlib.pyplot as plt\n",
    "%matplotlib inline"
   ]
  },
  {
   "cell_type": "code",
   "execution_count": 2,
   "metadata": {},
   "outputs": [],
   "source": [
    "random.seed(42)         # Initialize the random number generator.\n",
    "np.random.seed(42)      # With the seed reset, the same set of numbers will appear every time. \n",
    "tf.set_random_seed(42)  # sets the graph-level random seed"
   ]
  },
  {
   "cell_type": "markdown",
   "metadata": {},
   "source": [
    "## Dataset"
   ]
  },
  {
   "cell_type": "code",
   "execution_count": 3,
   "metadata": {},
   "outputs": [
    {
     "name": "stdout",
     "output_type": "stream",
     "text": [
      "(60000, 28, 28)\n",
      "(10000, 28, 28)\n",
      "(60000,)\n",
      "(10000,)\n"
     ]
    }
   ],
   "source": [
    "# Use the MNIST dataset  of Keras.\n",
    "\n",
    "mnist = tf.keras.datasets.mnist\n",
    "\n",
    "(Xtrain, Ytrain) , (Xtest, Ytest) = mnist.load_data()\n",
    "\n",
    "# size of the datsets\n",
    "\n",
    "print(Xtrain.shape)\n",
    "print(Xtest.shape)\n",
    "print(Ytrain.shape)\n",
    "print(Ytest.shape)"
   ]
  },
  {
   "cell_type": "code",
   "execution_count": 4,
   "metadata": {},
   "outputs": [],
   "source": [
    "# Normalize the data\n",
    "# 60000 input images are in the train set.\n",
    "# 10000 input images are in the test set.\n",
    "\n",
    "Xtrain = Xtrain.reshape((60000, 28*28))    # reshape the input set to size 28*28. \n",
    "Xtrain = Xtrain.astype('float32')/255      # normalize to grayscale; set datatype as float32\n",
    "\n",
    "Xtest = Xtest.reshape((10000, 28*28))      # reshape the input set to size 28*28. \n",
    "Xtest = Xtest.astype('float32')/255        # normalize to grayscale; set datatype as float32\n",
    "\n",
    "Ytrain = tf.keras.utils.to_categorical(Ytrain)\n",
    "Ytest = tf.keras.utils.to_categorical(Ytest)"
   ]
  },
  {
   "cell_type": "markdown",
   "metadata": {},
   "source": [
    "## DNN Model"
   ]
  },
  {
   "cell_type": "markdown",
   "metadata": {},
   "source": [
    "Using Keras, create the DNN or Sequential Model"
   ]
  },
  {
   "cell_type": "code",
   "execution_count": 5,
   "metadata": {},
   "outputs": [],
   "source": [
    "# Create a model object\n",
    "\n",
    "dnnModel = models.Sequential()"
   ]
  },
  {
   "cell_type": "markdown",
   "metadata": {},
   "source": [
    "Add dense layers, specifying the number of units in each layer and the activation function used in the layer."
   ]
  },
  {
   "cell_type": "code",
   "execution_count": 6,
   "metadata": {},
   "outputs": [
    {
     "name": "stdout",
     "output_type": "stream",
     "text": [
      "WARNING:tensorflow:From C:\\Anaconda3\\lib\\site-packages\\tensorflow\\python\\ops\\init_ops.py:1251: calling VarianceScaling.__init__ (from tensorflow.python.ops.init_ops) with dtype is deprecated and will be removed in a future version.\n",
      "Instructions for updating:\n",
      "Call initializer instance with the dtype argument instead of passing it to the constructor\n",
      "Model: \"sequential\"\n",
      "_________________________________________________________________\n",
      "Layer (type)                 Output Shape              Param #   \n",
      "=================================================================\n",
      "dense (Dense)                (None, 50)                39250     \n",
      "_________________________________________________________________\n",
      "dense_1 (Dense)              (None, 60)                3060      \n",
      "_________________________________________________________________\n",
      "dense_2 (Dense)              (None, 30)                1830      \n",
      "_________________________________________________________________\n",
      "dense_3 (Dense)              (None, 10)                310       \n",
      "=================================================================\n",
      "Total params: 44,450\n",
      "Trainable params: 44,450\n",
      "Non-trainable params: 0\n",
      "_________________________________________________________________\n"
     ]
    }
   ],
   "source": [
    "# Layer 1 = input layer\n",
    "# specify the input size for in the first layer.\n",
    "\n",
    "dnnModel.add(layers.Dense(50, activation='relu', input_shape= (28*28,)))\n",
    "\n",
    "# Layer 2 = hidden layer  with Regularizers\n",
    "dnnModel.add(layers.Dense(60, activation='relu', kernel_regularizer=regularizers.l2(0.01),\n",
    "                activity_regularizer=regularizers.l2(0.01)) )\n",
    "\n",
    "# Layer 3 = hidden layer \n",
    "dnnModel.add(layers.Dense(30, activation='relu'))\n",
    "\n",
    "# Layer 4 = output layer\n",
    "dnnModel.add(layers.Dense(10, activation='softmax'))\n",
    "\n",
    "dnnModel.summary()\n",
    "\n"
   ]
  },
  {
   "cell_type": "markdown",
   "metadata": {},
   "source": [
    "## Regularization and Optimizations of DNN"
   ]
  },
  {
   "cell_type": "code",
   "execution_count": 7,
   "metadata": {},
   "outputs": [],
   "source": [
    "# Configure  the model for training, by using appropriate optimizers and regularizations\n",
    "# Available optimizer: adam, rmsprop, adagrad, sgd\n",
    "# loss:  objective that the model will try to minimize. \n",
    "# Available loss: categorical_crossentropy, binary_crossentropy, mean_squared_error\n",
    "# metrics: List of metrics to be evaluated by the model during training and testing. \n",
    "        \n",
    "dnnModel.compile( optimizer = 'adam', loss = 'categorical_crossentropy', metrics=['accuracy'] )"
   ]
  },
  {
   "cell_type": "markdown",
   "metadata": {},
   "source": [
    "## Train the Model"
   ]
  },
  {
   "cell_type": "code",
   "execution_count": 8,
   "metadata": {},
   "outputs": [
    {
     "name": "stdout",
     "output_type": "stream",
     "text": [
      "Train on 48000 samples, validate on 12000 samples\n",
      "Epoch 1/25\n",
      "48000/48000 [==============================] - 12s 259us/sample - loss: 0.6882 - acc: 0.8787 - val_loss: 0.2915 - val_acc: 0.9490\n",
      "Epoch 2/25\n",
      "48000/48000 [==============================] - 9s 192us/sample - loss: 0.2368 - acc: 0.9548 - val_loss: 0.1959 - val_acc: 0.9594\n",
      "Epoch 3/25\n",
      "48000/48000 [==============================] - 5s 105us/sample - loss: 0.1689 - acc: 0.9653 - val_loss: 0.1645 - val_acc: 0.9649\n",
      "Epoch 4/25\n",
      "48000/48000 [==============================] - 6s 119us/sample - loss: 0.1360 - acc: 0.9715 - val_loss: 0.1402 - val_acc: 0.9701\n",
      "Epoch 5/25\n",
      "48000/48000 [==============================] - 6s 121us/sample - loss: 0.1155 - acc: 0.9763 - val_loss: 0.1327 - val_acc: 0.9707\n",
      "Epoch 6/25\n",
      "48000/48000 [==============================] - 5s 97us/sample - loss: 0.1026 - acc: 0.9793 - val_loss: 0.1259 - val_acc: 0.9716\n",
      "Epoch 7/25\n",
      "48000/48000 [==============================] - 5s 98us/sample - loss: 0.0925 - acc: 0.9809 - val_loss: 0.1232 - val_acc: 0.9719\n",
      "Epoch 8/25\n",
      "48000/48000 [==============================] - 5s 100us/sample - loss: 0.0846 - acc: 0.9823 - val_loss: 0.1259 - val_acc: 0.9714\n",
      "Epoch 9/25\n",
      "48000/48000 [==============================] - 5s 100us/sample - loss: 0.0785 - acc: 0.9840 - val_loss: 0.1391 - val_acc: 0.9668\n",
      "Epoch 10/25\n",
      "48000/48000 [==============================] - 6s 129us/sample - loss: 0.0763 - acc: 0.9847 - val_loss: 0.1314 - val_acc: 0.9698\n",
      "Epoch 11/25\n",
      "48000/48000 [==============================] - 5s 113us/sample - loss: 0.0695 - acc: 0.9868 - val_loss: 0.1396 - val_acc: 0.9676\n",
      "Epoch 12/25\n",
      "48000/48000 [==============================] - 5s 99us/sample - loss: 0.0660 - acc: 0.9866 - val_loss: 0.1345 - val_acc: 0.9688\n",
      "Epoch 13/25\n",
      "48000/48000 [==============================] - 5s 97us/sample - loss: 0.0611 - acc: 0.9885 - val_loss: 0.1309 - val_acc: 0.9684\n",
      "Epoch 14/25\n",
      "48000/48000 [==============================] - 5s 106us/sample - loss: 0.0592 - acc: 0.9886 - val_loss: 0.1376 - val_acc: 0.9682\n",
      "Epoch 15/25\n",
      "48000/48000 [==============================] - 5s 98us/sample - loss: 0.0578 - acc: 0.9891 - val_loss: 0.1448 - val_acc: 0.9643\n",
      "Epoch 16/25\n",
      "48000/48000 [==============================] - 7s 141us/sample - loss: 0.0539 - acc: 0.9898 - val_loss: 0.1374 - val_acc: 0.9710\n",
      "Epoch 17/25\n",
      "48000/48000 [==============================] - 6s 131us/sample - loss: 0.0499 - acc: 0.9906 - val_loss: 0.1391 - val_acc: 0.9688\n",
      "Epoch 18/25\n",
      "48000/48000 [==============================] - 6s 122us/sample - loss: 0.0505 - acc: 0.9908 - val_loss: 0.1349 - val_acc: 0.9689\n",
      "Epoch 19/25\n",
      "48000/48000 [==============================] - 5s 102us/sample - loss: 0.0482 - acc: 0.9910 - val_loss: 0.1404 - val_acc: 0.9696\n",
      "Epoch 20/25\n",
      "48000/48000 [==============================] - 5s 100us/sample - loss: 0.0420 - acc: 0.9930 - val_loss: 0.1361 - val_acc: 0.9714\n",
      "Epoch 21/25\n",
      "48000/48000 [==============================] - 6s 115us/sample - loss: 0.0492 - acc: 0.9904 - val_loss: 0.1514 - val_acc: 0.9687\n",
      "Epoch 22/25\n",
      "48000/48000 [==============================] - 6s 123us/sample - loss: 0.0444 - acc: 0.9921 - val_loss: 0.1438 - val_acc: 0.9689\n",
      "Epoch 23/25\n",
      "48000/48000 [==============================] - 5s 101us/sample - loss: 0.0397 - acc: 0.9931 - val_loss: 0.1430 - val_acc: 0.9689\n",
      "Epoch 24/25\n",
      "48000/48000 [==============================] - 5s 103us/sample - loss: 0.0405 - acc: 0.9928 - val_loss: 0.1430 - val_acc: 0.9688\n",
      "Epoch 25/25\n",
      "48000/48000 [==============================] - 5s 110us/sample - loss: 0.0405 - acc: 0.9930 - val_loss: 0.1390 - val_acc: 0.9697\n"
     ]
    }
   ],
   "source": [
    "# train the model\n",
    "\n",
    "h = dnnModel.fit( Xtrain, Ytrain, epochs=25, validation_split=0.2, batch_size=64)"
   ]
  },
  {
   "cell_type": "code",
   "execution_count": 9,
   "metadata": {},
   "outputs": [
    {
     "name": "stdout",
     "output_type": "stream",
     "text": [
      "Final training loss \t 0.040483932522435984\n",
      "Final training accuracy  0.9929583\n"
     ]
    }
   ],
   "source": [
    "print('Final training loss \\t', h.history['loss'][-1])\n",
    "print('Final training accuracy ', h.history['acc'][-1])"
   ]
  },
  {
   "cell_type": "code",
   "execution_count": 10,
   "metadata": {},
   "outputs": [
    {
     "data": {
      "image/png": "[encoded data removed]",
      "text/plain": [
       "<Figure size 432x288 with 1 Axes>"
      ]
     },
     "metadata": {
      "needs_background": "light"
     },
     "output_type": "display_data"
    }
   ],
   "source": [
    "# plot the training loss\n",
    "\n",
    "plt.plot(h.history['loss'], label='Train loss')\n",
    "plt.plot(h.history['val_loss'], label='Val loss') \n",
    "plt.xlabel('Epochs')\n",
    "plt.ylabel('Loss')\n",
    "plt.title('Plot of Training Loss')\n",
    "plt.legend()\n",
    "plt.show()"
   ]
  },
  {
   "cell_type": "code",
   "execution_count": 11,
   "metadata": {},
   "outputs": [
    {
     "data": {
      "image/png": "[encoded data removed]",
      "text/plain": [
       "<Figure size 432x288 with 1 Axes>"
      ]
     },
     "metadata": {
      "needs_background": "light"
     },
     "output_type": "display_data"
    }
   ],
   "source": [
    "# plot the training accuracy\n",
    "\n",
    "plt.plot(h.history['acc'], label='Train Acc')\n",
    "plt.plot(h.history['val_acc'], label='Val Acc')\n",
    "plt.xlabel('Epochs')\n",
    "plt.ylabel('Loss')\n",
    "plt.title('Plot of Training Accuracy')\n",
    "plt.legend()\n",
    "plt.show()"
   ]
  },
  {
   "cell_type": "markdown",
   "metadata": {},
   "source": [
    "## Testing the Model"
   ]
  },
  {
   "cell_type": "code",
   "execution_count": 12,
   "metadata": {},
   "outputs": [
    {
     "name": "stdout",
     "output_type": "stream",
     "text": [
      "10000/10000 [==============================] - 1s 68us/sample - loss: 0.1406 - acc: 0.9700\n"
     ]
    }
   ],
   "source": [
    "# testing the model\n",
    "\n",
    "testLoss, testAccuracy = dnnModel.evaluate( Xtest, Ytest)"
   ]
  },
  {
   "cell_type": "code",
   "execution_count": 13,
   "metadata": {},
   "outputs": [
    {
     "name": "stdout",
     "output_type": "stream",
     "text": [
      "Testing loss \t 0.14060759867727757\n",
      "Testing accuracy  0.97\n"
     ]
    }
   ],
   "source": [
    "print('Testing loss \\t', testLoss)\n",
    "print('Testing accuracy ', testAccuracy)"
   ]
  },
  {
   "cell_type": "markdown",
   "metadata": {},
   "source": [
    "Modify the code to get a better testing accuracy.\n",
    "- Change the number of hidden units\n",
    "- Increase the number of hidden layers\n",
    "- Use a different optimizer"
   ]
  }
 ],
 "metadata": {
  "kernelspec": {
   "display_name": "Python 3 (ipykernel)",
   "language": "python",
   "name": "python3"
  },
  "language_info": {
   "codemirror_mode": {
    "name": "ipython",
    "version": 3
   },
   "file_extension": ".py",
   "mimetype": "text/x-python",
   "name": "python",
   "nbconvert_exporter": "python",
   "pygments_lexer": "ipython3",
   "version": "3.8.10"
  }
 },
 "nbformat": 4,
 "nbformat_minor": 2
}
